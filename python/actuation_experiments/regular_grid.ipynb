{
 "cells": [
  {
   "cell_type": "code",
   "execution_count": null,
   "id": "d93ef796-5190-4082-a4bd-35a0f6a83f22",
   "metadata": {},
   "outputs": [],
   "source": [
    "from helpers import *\n",
    "from RegularGrid import RegularGrid"
   ]
  },
  {
   "cell_type": "markdown",
   "id": "b80d71c9-018e-4a12-abac-41edc1ac3add",
   "metadata": {
    "tags": []
   },
   "source": [
    "### **Python file**"
   ]
  },
  {
   "cell_type": "code",
   "execution_count": null,
   "id": "acc0b86f-e654-4050-9ef2-dd812da3c5d1",
   "metadata": {},
   "outputs": [],
   "source": [
    "category_name = '1D'"
   ]
  },
  {
   "cell_type": "markdown",
   "id": "102891f9-be50-479a-8602-b264c333295b",
   "metadata": {
    "tags": []
   },
   "source": [
    " "
   ]
  },
  {
   "cell_type": "markdown",
   "id": "2ebeb4ef-bdfb-4243-9901-512c9f7275ff",
   "metadata": {
    "tags": []
   },
   "source": [
    "### **Rows**, **Columns** and more"
   ]
  },
  {
   "cell_type": "code",
   "execution_count": null,
   "id": "c73aa491-3644-4adc-ad5f-a53fe67bedca",
   "metadata": {},
   "outputs": [],
   "source": [
    "degree = 4\n",
    "rows = 5\n",
    "cols = 2\n",
    "steps = 10\n",
    "deployment= 'min'\n",
    "folder_name ='00_test'"
   ]
  },
  {
   "cell_type": "markdown",
   "id": "01f6da28-75a8-4711-bad9-27ec656e3e0f",
   "metadata": {
    "tags": []
   },
   "source": [
    " "
   ]
  },
  {
   "cell_type": "code",
   "execution_count": null,
   "id": "441c7f17-709c-4e61-abbc-0469eb42e727",
   "metadata": {},
   "outputs": [],
   "source": [
    "folder_name , path_name = \\\n",
    "    create_dir_hierarchy(category_name,\n",
    "                         degree,\n",
    "                         rows,\n",
    "                         cols,\n",
    "                         deployment,\n",
    "                         folder_name)\n",
    "grid = RegularGrid(degree, rows, cols)"
   ]
  },
  {
   "cell_type": "markdown",
   "id": "c900ae1d-b906-460e-b163-ec393ef61eac",
   "metadata": {
    "tags": []
   },
   "source": [
    " "
   ]
  },
  {
   "cell_type": "markdown",
   "id": "07e8514b-fa66-4a9f-a442-ac3dcca8dcff",
   "metadata": {
    "tags": []
   },
   "source": [
    "### **Deployed** and **Undeployed**"
   ]
  },
  {
   "cell_type": "code",
   "execution_count": null,
   "id": "59a643c3-1604-4d19-9d1c-8bb33221192c",
   "metadata": {
    "tags": []
   },
   "outputs": [],
   "source": [
    "deployed_cells  = [0,7]\n",
    "undeployed_cells = grid.hline(1)"
   ]
  },
  {
   "cell_type": "markdown",
   "id": "1b30c100-d094-49a5-869d-1acea24d5d75",
   "metadata": {
    "tags": []
   },
   "source": [
    "- grid.border()\n",
    "- grid.center()\n",
    "- grid.vline(line_idx)\n",
    "- grid.hline(line_idx)\n",
    "- grid.cross(arm_length)"
   ]
  },
  {
   "cell_type": "markdown",
   "id": "33de26a5-242b-4d2b-afe6-9eb8b3ce12d4",
   "metadata": {},
   "source": [
    "---"
   ]
  },
  {
   "cell_type": "code",
   "execution_count": null,
   "id": "c645bba9-179d-4d27-919b-45be357c28ff",
   "metadata": {},
   "outputs": [],
   "source": [
    "# extremities\n",
    "active_cells    = deployed_cells + undeployed_cells\n",
    "target_percents = [100]*len(deployed_cells) + [0]*len(undeployed_cells) # 0:undeployed | 100:deployed"
   ]
  },
  {
   "cell_type": "code",
   "execution_count": null,
   "id": "168a9c2a-311b-4f68-b003-a5fb17b9f9c7",
   "metadata": {},
   "outputs": [],
   "source": [
    "# write meta-data\n",
    "with open(path_name+\"/meta_data.txt\", \"w\") as f:\n",
    "    f.write(\"Degree: \" + str(degree) + '\\n')\n",
    "    f.write(\"Rows  : \" + str(rows)   + '\\n')\n",
    "    f.write(\"Cols  : \" + str(cols)   + '\\n')\n",
    "    f.write(\"Deployment : \" + str(deployment) + '\\n')\n",
    "    f.write(\"Steps      : \" + str(steps)      + '\\n')\n",
    "    f.write(\"Active Cells    : \" + str(active_cells)    + '\\n')\n",
    "    f.write(\"Target Percents : \" + str(target_percents))"
   ]
  },
  {
   "cell_type": "code",
   "execution_count": null,
   "id": "ab762d8f-7742-4596-9e92-49457c905f73",
   "metadata": {},
   "outputs": [],
   "source": [
    "grid.generate_mesh(folder_name)"
   ]
  },
  {
   "cell_type": "code",
   "execution_count": null,
   "id": "2b4d6746-d2d0-41ce-afa5-b35c33ef0df0",
   "metadata": {
    "tags": []
   },
   "outputs": [],
   "source": [
    "plot2D(grid.input_data, grid.curr_um, True, active_cells=active_cells, target_percents=target_percents, file_name = path_name+'/undeployed.png')"
   ]
  },
  {
   "cell_type": "code",
   "execution_count": null,
   "id": "2c675e34-2e3f-47f2-a935-5f63b9673ee2",
   "metadata": {},
   "outputs": [],
   "source": [
    "view3D = plot3D(grid.curr_um, grid.input_data)\n",
    "view3D.show()"
   ]
  },
  {
   "cell_type": "code",
   "execution_count": null,
   "id": "ee44639c-e84e-4c01-8377-e13ada81e1ca",
   "metadata": {
    "tags": []
   },
   "outputs": [],
   "source": [
    "grid.deploy(active_cells, target_percents, view3D)"
   ]
  },
  {
   "cell_type": "code",
   "execution_count": null,
   "id": "b1367ff0-494b-442c-aa8a-35d2cf02a0df",
   "metadata": {
    "tags": []
   },
   "outputs": [],
   "source": [
    "if grid.rows==1 or grid.cols==1:\n",
    "    file_name = path_name+'/projection2D.png'\n",
    "    projection2D(grid.input_data, grid.curr_um, active_cells=active_cells, target_percents=target_percents, file_name=file_name)"
   ]
  },
  {
   "cell_type": "code",
   "execution_count": null,
   "id": "4d27741f-c169-4be9-97ba-96c77c9f5cc5",
   "metadata": {},
   "outputs": [],
   "source": [
    "sview_vm = plot3D_stress(grid.curr_um, 'maxBending')\n",
    "sview_vm.show()"
   ]
  },
  {
   "cell_type": "code",
   "execution_count": null,
   "id": "78d9779f",
   "metadata": {},
   "outputs": [],
   "source": [
    "plot2D_stress(grid.curr_um, grid.input_data, grid.init_center_pos, active_cells, target_percents, show_percent=True)"
   ]
  },
  {
   "cell_type": "markdown",
   "id": "735208b7-eb41-45b4-a34d-2c1cc99af5fe",
   "metadata": {},
   "source": [
    "### **Step Deployments**"
   ]
  },
  {
   "cell_type": "code",
   "execution_count": null,
   "id": "30acd912-da8d-4230-b3e1-49b5d79205d2",
   "metadata": {},
   "outputs": [],
   "source": [
    "stresses_per_steps, percents_per_steps = \\\n",
    "deploy_in_steps(grid.curr_um,\n",
    "                grid.input_data,\n",
    "                grid.init_heights,\n",
    "                grid.plate_thickness,\n",
    "                active_cells,\n",
    "                target_percents,\n",
    "                steps=steps,\n",
    "                stress_type='maxBending',\n",
    "                verbose=True,\n",
    "                dep=deployment)"
   ]
  },
  {
   "cell_type": "markdown",
   "id": "6c53bf7c-a429-46b4-8f1b-4519b4c1c13d",
   "metadata": {},
   "source": [
    "### **CSV**"
   ]
  },
  {
   "cell_type": "code",
   "execution_count": null,
   "id": "c8ff0c1e-ee39-44cb-80af-03fffd206ba4",
   "metadata": {},
   "outputs": [],
   "source": [
    "# TODO\n",
    "# -> to plot multiple curves/scatter plots on same figure\n",
    "\n",
    "# arr = np.zeros((2,3))\n",
    "# np.savetxt('./test.csv', arr, delimiter=',')\n",
    "# arr_read = np.genfromtxt('./test.csv', delimiter=',')\n",
    "# arr_read"
   ]
  },
  {
   "cell_type": "markdown",
   "id": "d428fde6-6b5e-44a1-8292-80906320be02",
   "metadata": {},
   "source": [
    "### **images**"
   ]
  },
  {
   "cell_type": "code",
   "execution_count": null,
   "id": "fb5f5f93-a7e5-42d1-a89d-7a1d8568db27",
   "metadata": {},
   "outputs": [],
   "source": [
    "plot2D_steps(grid.input_data,\n",
    "             active_cells,\n",
    "             percents_per_steps,\n",
    "             grid.init_center_pos,\n",
    "             stresses_per_steps,\n",
    "             stress_type='maxBending',\n",
    "             dir_name=path_name,\n",
    "             show_percent=False,\n",
    "             show_plot=False)"
   ]
  },
  {
   "cell_type": "markdown",
   "id": "ef459bc8-f1f2-4406-888a-9c5380437d9e",
   "metadata": {},
   "source": [
    "### **GIF**"
   ]
  },
  {
   "cell_type": "code",
   "execution_count": null,
   "id": "bd4d6354-f4c7-4fee-a4e3-216678d37f24",
   "metadata": {},
   "outputs": [],
   "source": [
    "fps  = 3 # frames per seconds\n",
    "loop = 2 # -1: no loop | 0: infinit loop | 1: loop once (see image twice) | 2: loop twice | ...\n",
    "for name in ['structure_all', 'structure_perSteps', 'structure_own', 'scatter', 'sPlot']:\n",
    "    img_name_i = f'\"{path_name}/jpg/*{name}*.jpg\"'\n",
    "    gif_name_i = f'\"{path_name}/jpg/gif/{name}.gif\"'\n",
    "    !ffmpeg  -loglevel panic -f image2 -r $fps -pattern_type glob -i $img_name_i -loop $loop $gif_name_i\n",
    "    img_name_i = f'{path_name}/png/*{name}*.png'\n",
    "    gif_name_i = f'{path_name}/png/gif/{name}.gif'\n",
    "    !gifski --quiet -o $gif_name_i --fps $fps --repeat $loop $img_name_i\n",
    "    "
   ]
  },
  {
   "cell_type": "code",
   "execution_count": null,
   "id": "4c1c31d5-5319-423f-951f-31188f4a6aef",
   "metadata": {},
   "outputs": [],
   "source": []
  }
 ],
 "metadata": {
  "kernelspec": {
   "display_name": "Python 3",
   "language": "python",
   "name": "python3"
  },
  "language_info": {
   "codemirror_mode": {
    "name": "ipython",
    "version": 3
   },
   "file_extension": ".py",
   "mimetype": "text/x-python",
   "name": "python",
   "nbconvert_exporter": "python",
   "pygments_lexer": "ipython3",
   "version": "3.10.9"
  }
 },
 "nbformat": 4,
 "nbformat_minor": 5
}
