{
 "cells": [
  {
   "cell_type": "code",
   "execution_count": 1,
   "id": "8bbb34f0-d027-4966-bd61-4044156791bd",
   "metadata": {},
   "outputs": [],
   "source": [
    "import sys\n",
    "sys.path.append('..')\n",
    "import umbrella_mesh\n",
    "import linkage_vis\n",
    "import load_jsondata\n",
    "from configuration import *\n",
    "from visualization_helper import *"
   ]
  },
  {
   "cell_type": "code",
   "execution_count": 2,
   "id": "5030bd74-1a43-439f-8fed-7f61a45859b3",
   "metadata": {},
   "outputs": [],
   "source": [
    "import numpy as np"
   ]
  },
  {
   "cell_type": "code",
   "execution_count": 3,
   "id": "9170a7d5-9b0f-42cd-9f62-d941aa6f5439",
   "metadata": {},
   "outputs": [],
   "source": [
    "sys.path.append('../UmbrellaGen')\n",
    "import grid_gen"
   ]
  },
  {
   "cell_type": "markdown",
   "id": "d1702687-abad-45f0-b0a2-e5170f23bdd2",
   "metadata": {},
   "source": [
    "### Define the grid dimensions and Umbrella Valence you want"
   ]
  },
  {
   "cell_type": "code",
   "execution_count": 4,
   "id": "acf0f88b-4bef-4e92-95d8-0b1d76ed2ed2",
   "metadata": {},
   "outputs": [],
   "source": [
    "degree = 3 # 3 for TriUmbrellas, 4 for QuadUmbrellas\n",
    "rows = 5 # please make sure rows >=2\n",
    "cols = 5 # please make sure cols >=2"
   ]
  },
  {
   "cell_type": "code",
   "execution_count": 5,
   "id": "69500fbf-cc92-414b-adf7-a6c32eef7504",
   "metadata": {},
   "outputs": [],
   "source": [
    "numUmbrellas = 0\n",
    "if degree == 3:\n",
    "    numUmbrellas = (rows * 2) * cols\n",
    "elif degree == 4 or degree == 6:\n",
    "    numUmbrellas = rows * cols"
   ]
  },
  {
   "cell_type": "markdown",
   "id": "5c992cd9-4d52-4d03-a4c1-635f23c4d1f4",
   "metadata": {
    "tags": []
   },
   "source": [
    "### Define your favorite height, material and cross-section     #-------function! Umbrellas are sequenced row-wise"
   ]
  },
  {
   "cell_type": "code",
   "execution_count": 6,
   "id": "29a8befb-e467-4047-8ff8-f4ffc85e7d5d",
   "metadata": {},
   "outputs": [],
   "source": [
    "def myHeightFunc(numUmbrellas): \n",
    "    heights = [1] * numUmbrellas # Scale Factor of heights. Set minHeight to your desired minimum absolute height.\n",
    "    for uid in range(numUmbrellas):\n",
    "        heights[uid] += (0.1 * uid**1.6 + 0.1 *(numUmbrellas - 1 - uid)**1.6)\n",
    "        # heights[uid] += (0.01 * uid**3 + 0.01 *(numUmbrellas - 1 - uid)**3)\n",
    "    print(min(heights))\n",
    "    heights = [h/min(heights) for h in heights]\n",
    "    # print(np.array(heights)*64)\n",
    "    return heights\n",
    "\n",
    "def myMaterialFunc(numUmbrellas):\n",
    "    plate_E, plate_nu, plate_thickness, plate_width = [1400 * 10, 0.35, 3.0, 5.0]\n",
    "    E = [1400] * numUmbrellas #Default values for uniform material umbrellas\n",
    "    nu = [0.35] * numUmbrellas\n",
    "    thickness = [3.0] * numUmbrellas\n",
    "    width = [5.0] * numUmbrellas\n",
    "    \n",
    "    # Write your material function here dependent on UmbrellaID (uid). In the visualization below the colormap (viridis) will help you visualize the IDs. They are sequenced row-wise\n",
    "    #-------\n",
    "    for uid in range(numUmbrellas):\n",
    "        # E[uid] += -2000 + 0.05 * (  uid ** 3 + (numUmbrellas - 1 - uid)**3 )\n",
    "        # nu[uid] += 0.01 * uid\n",
    "        thickness[uid] += 0.1 * uid\n",
    "        width[uid] += 0.1 * uid\n",
    "    #-------\n",
    "        \n",
    "        \n",
    "    material_params = np.zeros((1 + 4 * (numUmbrellas + 1)))\n",
    "    material_params[0] = numUmbrellas + 1\n",
    "    material_params[1::4] = E + [plate_E]\n",
    "    material_params[2::4] = nu + [plate_nu]\n",
    "    material_params[3::4] = thickness + [plate_thickness]\n",
    "    material_params[4::4] = width + [plate_width]\n",
    "    \n",
    "    return material_params\n",
    "    "
   ]
  },
  {
   "cell_type": "code",
   "execution_count": 7,
   "id": "306c46fe-2cf1-4124-8ea3-ea65f61a584c",
   "metadata": {},
   "outputs": [
    {
     "name": "stdout",
     "output_type": "stream",
     "text": [
      "34.40277486269047\n"
     ]
    }
   ],
   "source": [
    "# The height function is a scaling function relative to the minHeight\n",
    "minHeight = 64\n",
    "V, F, X, _ = grid_gen.genUmbrellaWithHeights(degree, rows, cols, height_scales = myHeightFunc(numUmbrellas),minHeight = minHeight)"
   ]
  },
  {
   "cell_type": "code",
   "execution_count": 23,
   "id": "46f72b5b-3cf9-4e3a-be90-55954d049d53",
   "metadata": {},
   "outputs": [
    {
     "data": {
      "text/plain": [
       "1"
      ]
     },
     "execution_count": 23,
     "metadata": {},
     "output_type": "execute_result"
    }
   ],
   "source": [
    "V, F = np.array(V), np.array(F)\n",
    "\n",
    "C = V[F].mean(axis=1)\n",
    "\n",
    "np.unique(np.round(np.linalg.norm(np.expand_dims(C, 1) - V[F], axis = -1), decimals = 7)).size == 1"
   ]
  },
  {
   "cell_type": "code",
   "execution_count": 8,
   "id": "8e79b994-894e-4c77-9ad8-f8573d67543f",
   "metadata": {},
   "outputs": [],
   "source": [
    "import mesh\n",
    "base_mesh = mesh.Mesh(\"../../data/plane_equi.obj\")\n",
    "V, F = base_mesh.vertices(), base_mesh.elements()\n",
    "V_3d = np.zeros((len(V), 3))\n",
    "V_3d[:, :2] = V\n",
    "c_out = V_3d[F].mean(axis=1)"
   ]
  },
  {
   "cell_type": "code",
   "execution_count": 9,
   "id": "ea059cf5-3e15-4dd3-974d-01c3a8a547f1",
   "metadata": {},
   "outputs": [
    {
     "data": {
      "text/plain": [
       "<matplotlib.collections.PathCollection at 0x137b74a90>"
      ]
     },
     "execution_count": 9,
     "metadata": {},
     "output_type": "execute_result"
    },
    {
     "data": {
      "image/png": "[encoded data removed]",
      "text/plain": [
       "<Figure size 432x288 with 1 Axes>"
      ]
     },
     "metadata": {
      "needs_background": "light"
     },
     "output_type": "display_data"
    }
   ],
   "source": [
    "import matplotlib.pyplot as plt\n",
    "plt.scatter(c_out[:,0],c_out[:,1])"
   ]
  },
  {
   "cell_type": "code",
   "execution_count": 11,
   "id": "4af62baf-e662-40ae-9603-2f5201ecaa53",
   "metadata": {},
   "outputs": [],
   "source": [
    "import importlib\n",
    "importlib.reload(grid_gen)\n",
    "_, _, X_fin, _ = grid_gen.genUmbrellaWithHeights(degree, rows, cols, height_scales = None,minHeight = minHeight, base_mesh = (V_3d.tolist(),F.tolist()))"
   ]
  },
  {
   "cell_type": "markdown",
   "id": "c962dee0-065b-40a8-a6ff-e2beedf85e56",
   "metadata": {
    "tags": []
   },
   "source": [
    "### Initialization"
   ]
  },
  {
   "cell_type": "code",
   "execution_count": 12,
   "id": "073c77ca-e2da-4fdd-bf0e-37d3d9f701a0",
   "metadata": {},
   "outputs": [],
   "source": [
    "name = 'grid_dump'\n",
    "input_path = '../UmbrellaGen/{}.json.gz'.format(name)\n",
    "io1, input_data1, target_mesh, curr_um1, plate_thickness, target_height_multiplier = parse_input(input_path, handleBoundary = False, isHex = (degree == 6))\n"
   ]
  },
  {
   "cell_type": "code",
   "execution_count": 13,
   "id": "6eb7ccad-a36b-480e-b52e-69fac5cfa4fd",
   "metadata": {
    "tags": []
   },
   "outputs": [
    {
     "data": {
      "application/vnd.jupyter.widget-view+json": {
       "model_id": "37073a1aad414871a11656ff80464b60",
       "version_major": 2,
       "version_minor": 0
      },
      "text/plain": [
       "Renderer(camera=PerspectiveCamera(aspect=1.3333333333333333, children=(PointLight(color='#999999', position=(0…"
      ]
     },
     "metadata": {},
     "output_type": "display_data"
    }
   ],
   "source": [
    "rod_colors1 = get_color_field(curr_um1, input_data1, uidBased = False) \n",
    "\n",
    "from ipywidgets import HBox\n",
    "lview1 = linkage_vis.LinkageViewer(curr_um1, width=800, height=600)\n",
    "lview1.update(scalarField = rod_colors1)\n",
    "lview1.show()"
   ]
  },
  {
   "cell_type": "markdown",
   "id": "b58919c8-5a08-41a3-b35c-b042ab8f4813",
   "metadata": {
    "tags": []
   },
   "source": [
    "### Deploy umbrellaMesh"
   ]
  },
  {
   "cell_type": "code",
   "execution_count": 14,
   "id": "a9dff6e5-ff67-42d2-8d6c-84eb1ac2c40c",
   "metadata": {
    "scrolled": true,
    "tags": []
   },
   "outputs": [],
   "source": [
    "success = deploy_umbrella_pin_rigid_motion(curr_um1, plate_thickness, target_height_multiplier, lview1, rod_colors1)"
   ]
  },
  {
   "cell_type": "code",
   "execution_count": null,
   "id": "78b7d1d6-1a7b-4fd9-b53a-a82eaa4033ca",
   "metadata": {
    "collapsed": true,
    "jupyter": {
     "outputs_hidden": true,
     "source_hidden": true
    },
    "scrolled": true,
    "tags": []
   },
   "outputs": [],
   "source": []
  },
  {
   "cell_type": "markdown",
   "id": "b48a215a-5743-473e-9a39-07d17d7401b5",
   "metadata": {},
   "source": [
    "### Align Views appropriately"
   ]
  },
  {
   "cell_type": "code",
   "execution_count": null,
   "id": "e266619f-d824-4b39-8e5d-9205f4128f9f",
   "metadata": {},
   "outputs": [],
   "source": [
    "# assert 0\n",
    "# lview1.setCameraParams(lview2.getCameraParams())\n",
    "lview2.setCameraParams(lview1.getCameraParams())"
   ]
  },
  {
   "cell_type": "code",
   "execution_count": null,
   "id": "4fc480db-d2ad-422b-acae-aa636b009f0e",
   "metadata": {},
   "outputs": [],
   "source": [
    "V1, F1, _ = curr_um1.visualizationGeometry()\n",
    "V2, F2, _ = curr_um2.visualizationGeometry()\n",
    "V3 = np.vstack((V1, V2))\n",
    "F3 = np.vstack((F1, F2 + len(V1)))\n",
    "\n",
    "import vis\n",
    "from matplotlib import cm\n",
    "bending1, bending2 = curr_um1.maxBendingStresses(), curr_um2.maxBendingStresses()\n",
    "bvmin, bvmax = np.min(bending1 + bending2), np.max(bending1 + bending2)\n",
    "print(bvmin, bvmax)\n",
    "twisting1, twisting2 = curr_um1.twistingStresses(), curr_um2.twistingStresses()\n",
    "tvmin, tvmax = np.min(twisting1 + twisting2), np.max(twisting1 + twisting2)\n",
    "print(tvmin, tvmax)\n",
    "\n",
    "print(np.array(bending1).shape)\n",
    "print(np.max(bending1), np.max(bending2))\n",
    "print(np.max(twisting1), np.max(twisting2))\n",
    "\n",
    "\n",
    "print((np.max(bending2) - np.max(bending1))/np.max(bending1))\n",
    "print((np.max(twisting2) - np.max(twisting1))/np.max(twisting1))\n",
    "\n",
    "\n",
    "pos1 = np.array([curr_um1.segment(sid).rod.deformedPoints() for sid in range(curr_um1.numSegments())])\n",
    "pos2 = np.array([curr_um2.segment(sid).rod.deformedPoints() for sid in range(curr_um2.numSegments())])\n",
    "distance = np.linalg.norm(pos2 - pos1, axis = -1)\n",
    "\n",
    "\n",
    "print(distance.shape, len(bending1), curr_um1.numSegments(), curr_um1.numJoints())\n",
    "\n",
    "sf1b = vis.fields.ScalarField(curr_um1, bending1, colormap = cm.plasma, vmin = bvmin, vmax = bvmax)\n",
    "sf2b = vis.fields.ScalarField(curr_um2, bending2, colormap = cm.plasma, vmin = bvmin, vmax = bvmax)\n",
    "sf1t = vis.fields.ScalarField(curr_um1, twisting1, colormap = cm.plasma, vmin = tvmin, vmax = tvmax)\n",
    "sf2t = vis.fields.ScalarField(curr_um2, twisting2, colormap = cm.plasma, vmin = tvmin, vmax = tvmax)\n",
    "\n",
    "sfd = vis.fields.ScalarField(curr_um2, distance, colormap = cm.plasma)\n",
    "\n",
    "\n",
    "color1b, color2b = sf1b.colors(), sf2b.colors()\n",
    "color1t, color2t = sf1t.colors(), sf2t.colors()\n",
    "color1d, color2d = np.ones_like(sfd.colors())*0.5, sfd.colors()\n",
    "\n",
    "bcolors = np.vstack((color1b, color2b))\n",
    "tcolors = np.vstack((color1t, color2t))\n",
    "dcolors = np.vstack((color1d, color2d))\n",
    "bview, tview, dview = linkage_vis.LinkageViewer((V3, F3)), linkage_vis.LinkageViewer((V3, F3)), linkage_vis.LinkageViewer((V3, F3))\n",
    "bview.update(scalarField = bcolors)\n",
    "tview.update(scalarField = tcolors)\n",
    "dview.update(scalarField = dcolors)\n",
    "HBox([bview.show(), tview.show(), dview.show()])"
   ]
  },
  {
   "cell_type": "code",
   "execution_count": null,
   "id": "8300f94e-28fb-42c6-b22d-5f996a6937b8",
   "metadata": {},
   "outputs": [],
   "source": [
    "tview.setCameraParams(bview.getCameraParams())\n",
    "dview.setCameraParams(bview.getCameraParams())\n",
    "assert 0"
   ]
  },
  {
   "cell_type": "markdown",
   "id": "1313224e-f313-4dac-ae38-d1c186506100",
   "metadata": {},
   "source": [
    "### Max vonMises Stress Visualization"
   ]
  },
  {
   "cell_type": "code",
   "execution_count": null,
   "id": "afedaa27-c18e-4ae3-9387-8818617dfc29",
   "metadata": {},
   "outputs": [],
   "source": [
    "lview1.update(scalarField = curr_um1.maxVonMisesStresses())\n",
    "lview2.update(scalarField = curr_um2.maxVonMisesStresses())"
   ]
  },
  {
   "cell_type": "markdown",
   "id": "e51d7de8-7a13-45b4-b5ba-9592c027a218",
   "metadata": {},
   "source": [
    "### Release actuation forces to see if there is a bistable state"
   ]
  },
  {
   "cell_type": "code",
   "execution_count": null,
   "id": "cabf04f7-627d-4d88-955c-f98f2b08aa62",
   "metadata": {},
   "outputs": [],
   "source": [
    "deploy_umbrella_pin_rigid_motion(curr_um1, plate_thickness, target_height_multiplier, lview1, rod_colors1, releaseActuation = True)"
   ]
  },
  {
   "cell_type": "code",
   "execution_count": null,
   "id": "9d0f9898-9279-43f7-9987-dbd2205c27be",
   "metadata": {},
   "outputs": [],
   "source": [
    "deploy_umbrella_pin_rigid_motion(curr_um2, plate_thickness, target_height_multiplier, lview2, rod_colors2, releaseActuation = True)"
   ]
  },
  {
   "cell_type": "code",
   "execution_count": null,
   "id": "a1ea70f5-e5db-4bcb-936a-75e6819245e8",
   "metadata": {},
   "outputs": [],
   "source": []
  }
 ],
 "metadata": {
  "kernelspec": {
   "display_name": "Python 3",
   "language": "python",
   "name": "python3"
  },
  "language_info": {
   "codemirror_mode": {
    "name": "ipython",
    "version": 3
   },
   "file_extension": ".py",
   "mimetype": "text/x-python",
   "name": "python",
   "nbconvert_exporter": "python",
   "pygments_lexer": "ipython3",
   "version": "3.8.16"
  },
  "vscode": {
   "interpreter": {
    "hash": "094aec4f193b0e6635558d0fb4f62cc2fc06a275223c2623da1d527ec568f3a7"
   }
  }
 },
 "nbformat": 4,
 "nbformat_minor": 5
}
