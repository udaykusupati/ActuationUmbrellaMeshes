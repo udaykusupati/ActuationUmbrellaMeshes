{
 "cells": [
  {
   "cell_type": "code",
   "execution_count": 1,
   "id": "3f712e09-2ecb-4a21-8c45-c35debd6f2fe",
   "metadata": {},
   "outputs": [],
   "source": [
    "from deploy_groups import deploy_inputs_grid"
   ]
  },
  {
   "cell_type": "code",
   "execution_count": 2,
   "id": "61f75657-e1bf-4545-bf73-370e2267df84",
   "metadata": {},
   "outputs": [
    {
     "name": "stdout",
     "output_type": "stream",
     "text": [
      "name: row_d1_u0, (rows=1, cols=4):\n",
      "      done with deployment='linear'\n",
      "name: row_d2_u0, (rows=1, cols=4):\n",
      "      done with deployment='linear'\n",
      "name: row_d3_u0, (rows=1, cols=4):\n",
      "      done with deployment='linear'\n",
      "name: row_d4_u0, (rows=1, cols=4):\n",
      "      done with deployment='linear'\n",
      "name: row_d5_u0, (rows=1, cols=4):\n",
      "      done with deployment='linear'\n",
      "name: row_d6_u0, (rows=1, cols=4):\n",
      "      done with deployment='linear'\n",
      "name: row_d7_u0, (rows=1, cols=4):\n",
      "      done with deployment='linear'\n",
      "name: col_d1_u0, (rows=4, cols=1):\n",
      "      done with deployment='linear'\n",
      "name: col_d2_u0, (rows=4, cols=1):\n",
      "      done with deployment='linear'\n",
      "name: col_d3_u0, (rows=4, cols=1):\n",
      "      done with deployment='linear'\n",
      "name: col_d4_u0, (rows=4, cols=1):\n",
      "      done with deployment='linear'\n",
      "name: col_d5_u0, (rows=4, cols=1):\n",
      "      done with deployment='linear'\n",
      "name: col_d6_u0, (rows=4, cols=1):\n",
      "      done with deployment='linear'\n",
      "name: col_d7_u0, (rows=4, cols=1):\n",
      "      done with deployment='linear'\n"
     ]
    }
   ],
   "source": [
    "deploy_inputs_grid('./inputs_line_extremities_u0.txt', ['linear'])"
   ]
  },
  {
   "cell_type": "code",
   "execution_count": null,
   "id": "823c3b39-0a62-418e-9e65-64abdbeb29f6",
   "metadata": {},
   "outputs": [],
   "source": []
  }
 ],
 "metadata": {
  "kernelspec": {
   "display_name": "Python 3",
   "language": "python",
   "name": "python3"
  },
  "language_info": {
   "codemirror_mode": {
    "name": "ipython",
    "version": 3
   },
   "file_extension": ".py",
   "mimetype": "text/x-python",
   "name": "python",
   "nbconvert_exporter": "python",
   "pygments_lexer": "ipython3",
   "version": "3.10.9"
  }
 },
 "nbformat": 4,
 "nbformat_minor": 5
}
