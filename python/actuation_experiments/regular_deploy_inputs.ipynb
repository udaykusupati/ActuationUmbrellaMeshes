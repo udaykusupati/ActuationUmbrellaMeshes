{
 "cells": [
  {
   "cell_type": "code",
   "execution_count": 1,
   "id": "67b5dc06-cc46-4066-9998-17c5eb18270e",
   "metadata": {},
   "outputs": [
    {
     "name": "stdout",
     "output_type": "stream",
     "text": [
      "name: line, (rows=3, cols=1):\n",
      "      done with deployment='linear'\n",
      "      done with deployment='incremental'\n",
      "name: border, (rows=3, cols=2):\n",
      "      done with deployment='linear'\n",
      "      done with deployment='incremental'\n",
      "name: border, (rows=4, cols=2):\n",
      "      done with deployment='linear'\n",
      "      done with deployment='incremental'\n",
      "name: border, (rows=5, cols=2):\n",
      "      done with deployment='linear'\n",
      "      done with deployment='incremental'\n"
     ]
    }
   ],
   "source": [
    "from deployment import deploy_inputs_grid\n",
    "deploy_inputs_grid()"
   ]
  },
  {
   "cell_type": "code",
   "execution_count": null,
   "id": "823c3b39-0a62-418e-9e65-64abdbeb29f6",
   "metadata": {},
   "outputs": [],
   "source": []
  }
 ],
 "metadata": {
  "kernelspec": {
   "display_name": "Python 3",
   "language": "python",
   "name": "python3"
  },
  "language_info": {
   "codemirror_mode": {
    "name": "ipython",
    "version": 3
   },
   "file_extension": ".py",
   "mimetype": "text/x-python",
   "name": "python",
   "nbconvert_exporter": "python",
   "pygments_lexer": "ipython3",
   "version": "3.10.9"
  }
 },
 "nbformat": 4,
 "nbformat_minor": 5
}
