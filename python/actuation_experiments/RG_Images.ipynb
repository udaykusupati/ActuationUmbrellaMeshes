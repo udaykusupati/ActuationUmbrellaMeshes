{
 "cells": [
  {
   "cell_type": "code",
   "execution_count": 1,
   "id": "d93ef796-5190-4082-a4bd-35a0f6a83f22",
   "metadata": {},
   "outputs": [],
   "source": [
    "from tools import read_metadata, read_results, get_indexes\n",
    "from plots import plot2D_steps, plot1D_steps"
   ]
  },
  {
   "cell_type": "code",
   "execution_count": 2,
   "id": "8e25057e-ec73-4b1a-8dc0-049565f63542",
   "metadata": {},
   "outputs": [],
   "source": [
    "# reload automaticaly external modules\n",
    "%load_ext autoreload\n",
    "%autoreload 2"
   ]
  },
  {
   "cell_type": "markdown",
   "id": "b80d71c9-018e-4a12-abac-41edc1ac3add",
   "metadata": {
    "tags": []
   },
   "source": [
    "### **Results paths**"
   ]
  },
  {
   "cell_type": "code",
   "execution_count": 3,
   "id": "acc0b86f-e654-4050-9ef2-dd812da3c5d1",
   "metadata": {},
   "outputs": [
    {
     "name": "stdout",
     "output_type": "stream",
     "text": [
      " 0: outputs/formatage/780/03_04_01_linear_double_hline\n",
      " 1: outputs/formatage/57/03_04_01_linear_double_hline\n",
      " 2: outputs/formatage/703/03_04_01_linear_double_hline\n",
      " 3: outputs/formatage/557/03_04_01_linear_double_hline\n",
      " 4: outputs/formatage/123/03_04_01_linear_double_hline\n",
      " 5: outputs/formatage/365/03_04_01_linear_double_hline\n",
      " 6: outputs/formatage/220/03_04_01_linear_double_hline\n",
      " 7: outputs/formatage/664/03_04_01_linear_double_hline\n",
      " 8: outputs/formatage/632/03_04_01_linear_double_hline\n",
      " 9: outputs/formatage/160/03_04_01_linear_double_hline\n",
      "10: outputs/formatage/391/03_04_01_linear_double_hline\n",
      "11: outputs/formatage/616/03_04_01_linear_double_hline\n",
      "12: outputs/formatage/280/03_04_01_linear_double_hline\n",
      "13: outputs/formatage/117/03_04_01_linear_double_hline\n",
      "14: outputs/formatage/425/03_04_01_linear_double_hline\n",
      "15: outputs/formatage/902/03_04_01_linear_double_hline\n",
      "16: outputs/formatage/336/03_04_01_linear_double_hline\n",
      "17: outputs/formatage/856/03_04_01_linear_double_hline\n",
      "18: outputs/formatage/025/03_04_01_min_double_hline\n",
      "19: outputs/formatage/792/03_04_01_min_double_hline\n",
      "20: outputs/formatage/792/03_04_01_min_double_hline\n",
      "21: outputs/formatage/568/03_04_01_min_double_hline\n"
     ]
    }
   ],
   "source": [
    "paths_all = []\n",
    "with open(\"./paths.txt\") as f:\n",
    "    paths_all = f.read().splitlines()\n",
    "for i,p in enumerate(paths_all):\n",
    "    print(f'{i: >2}: {p}')"
   ]
  },
  {
   "cell_type": "code",
   "execution_count": 4,
   "id": "eebd2ea6-b549-46c5-8d25-726f6e5604d4",
   "metadata": {},
   "outputs": [],
   "source": [
    "path = paths_all[-1]"
   ]
  },
  {
   "cell_type": "markdown",
   "id": "86bf46ce-ff29-4505-b025-a35ebecf7080",
   "metadata": {},
   "source": [
    "### **Metadata**"
   ]
  },
  {
   "cell_type": "code",
   "execution_count": 5,
   "id": "d4a19ade-fe80-4778-922c-c4aab4db60fb",
   "metadata": {},
   "outputs": [],
   "source": [
    "degree, rows, cols, *_unused  = read_metadata(path)"
   ]
  },
  {
   "cell_type": "markdown",
   "id": "d74b2294-d193-4c12-82fe-631548c89880",
   "metadata": {},
   "source": [
    "### **Load Results**"
   ]
  },
  {
   "cell_type": "code",
   "execution_count": 6,
   "id": "ae3e7ce7",
   "metadata": {},
   "outputs": [],
   "source": [
    "connectivity,        \\\n",
    "init_center_pos,     \\\n",
    "heights,             \\\n",
    "active_cells,        \\\n",
    "percents_per_steps,  \\\n",
    "stresses_per_steps = \\\n",
    "    read_results(path)"
   ]
  },
  {
   "cell_type": "markdown",
   "id": "931402cf-7c1f-43ae-86c0-3545c76880a1",
   "metadata": {},
   "source": [
    "### **Images**"
   ]
  },
  {
   "cell_type": "code",
   "execution_count": 7,
   "id": "fb5f5f93-a7e5-42d1-a89d-7a1d8568db27",
   "metadata": {},
   "outputs": [],
   "source": [
    "plot2D_steps(connectivity,\n",
    "             active_cells,\n",
    "             percents_per_steps,\n",
    "             init_center_pos,\n",
    "             stresses_per_steps,\n",
    "             stress_type='maxBending',\n",
    "             dir_name=path,\n",
    "             show_percent=False,\n",
    "             show_plot=False)"
   ]
  },
  {
   "cell_type": "code",
   "execution_count": 8,
   "id": "b6fab010-108f-4589-8e5f-12d378880d59",
   "metadata": {},
   "outputs": [],
   "source": [
    "if cols==1 or rows==1:\n",
    "    plot1D_steps(connectivity,\n",
    "                 active_cells,\n",
    "                 percents_per_steps,\n",
    "                 init_center_pos,\n",
    "                 stresses_per_steps,\n",
    "                 stress_type='maxBending',\n",
    "                 dir_name=path,\n",
    "                 show_percent=False,\n",
    "                 show_plot=False)"
   ]
  },
  {
   "cell_type": "markdown",
   "id": "1fd56911-c165-4e6b-98de-3a3724b11eeb",
   "metadata": {},
   "source": [
    "### **GIF**"
   ]
  },
  {
   "cell_type": "code",
   "execution_count": 9,
   "id": "bd4d6354-f4c7-4fee-a4e3-216678d37f24",
   "metadata": {},
   "outputs": [],
   "source": [
    "fps  = 3 # frames per seconds\n",
    "loop = 2 # -1: no loop | 0: infinit loop | 1: loop once (see image twice) | 2: loop twice | ...\n",
    "for name in ['structure_all', 'structure_perSteps', 'structure_own', 'scatter', 'sPlot']:\n",
    "    img_name_i = f'\"{path}/jpg/*{name}*.jpg\"'\n",
    "    gif_name_i = f'\"{path}/jpg/gif/{name}.gif\"'\n",
    "    !ffmpeg  -loglevel panic -f image2 -r $fps -pattern_type glob -i $img_name_i -loop $loop $gif_name_i\n",
    "    img_name_i = f'{path}/png/*{name}*.png'\n",
    "    gif_name_i = f'{path}/png/gif/{name}.gif'\n",
    "    !gifski --quiet -o $gif_name_i --fps $fps --repeat $loop --quality 100 $img_name_i\n",
    "    "
   ]
  },
  {
   "cell_type": "markdown",
   "id": "e1bbd9f6-d0ef-4bba-b110-103fd8b53805",
   "metadata": {},
   "source": [
    "### **plot heights**"
   ]
  },
  {
   "cell_type": "code",
   "execution_count": 10,
   "id": "1a048114-3097-4f6a-9a4d-967c78635d9e",
   "metadata": {},
   "outputs": [],
   "source": [
    "import matplotlib.pyplot as plt\n",
    "import numpy as np"
   ]
  },
  {
   "cell_type": "code",
   "execution_count": 15,
   "id": "8eacc057-07f7-4fb2-9945-1cb43f23cdf6",
   "metadata": {},
   "outputs": [
    {
     "data": {
      "image/png": "[encoded data removed]",
      "text/plain": [
       "<Figure size 432x288 with 1 Axes>"
      ]
     },
     "metadata": {
      "needs_background": "light"
     },
     "output_type": "display_data"
    },
    {
     "data": {
      "image/png": "[encoded data removed]",
      "text/plain": [
       "<Figure size 432x288 with 1 Axes>"
      ]
     },
     "metadata": {
      "needs_background": "light"
     },
     "output_type": "display_data"
    },
    {
     "data": {
      "image/png": "[encoded data removed]",
      "text/plain": [
       "<Figure size 432x288 with 1 Axes>"
      ]
     },
     "metadata": {
      "needs_background": "light"
     },
     "output_type": "display_data"
    },
    {
     "data": {
      "image/png": "[encoded data removed]",
      "text/plain": [
       "<Figure size 432x288 with 1 Axes>"
      ]
     },
     "metadata": {
      "needs_background": "light"
     },
     "output_type": "display_data"
    },
    {
     "data": {
      "image/png": "[encoded data removed]",
      "text/plain": [
       "<Figure size 432x288 with 1 Axes>"
      ]
     },
     "metadata": {
      "needs_background": "light"
     },
     "output_type": "display_data"
    },
    {
     "data": {
      "image/png": "[encoded data removed]",
      "text/plain": [
       "<Figure size 432x288 with 1 Axes>"
      ]
     },
     "metadata": {
      "needs_background": "light"
     },
     "output_type": "display_data"
    },
    {
     "data": {
      "image/png": "[encoded data removed]",
      "text/plain": [
       "<Figure size 432x288 with 1 Axes>"
      ]
     },
     "metadata": {
      "needs_background": "light"
     },
     "output_type": "display_data"
    },
    {
     "data": {
      "image/png": "[encoded data removed]",
      "text/plain": [
       "<Figure size 432x288 with 1 Axes>"
      ]
     },
     "metadata": {
      "needs_background": "light"
     },
     "output_type": "display_data"
    },
    {
     "data": {
      "image/png": "[encoded data removed]",
      "text/plain": [
       "<Figure size 432x288 with 1 Axes>"
      ]
     },
     "metadata": {
      "needs_background": "light"
     },
     "output_type": "display_data"
    },
    {
     "data": {
      "image/png": "[encoded data removed]",
      "text/plain": [
       "<Figure size 432x288 with 1 Axes>"
      ]
     },
     "metadata": {
      "needs_background": "light"
     },
     "output_type": "display_data"
    },
    {
     "data": {
      "image/png": "[encoded data removed]",
      "text/plain": [
       "<Figure size 432x288 with 1 Axes>"
      ]
     },
     "metadata": {
      "needs_background": "light"
     },
     "output_type": "display_data"
    }
   ],
   "source": [
    "indexes = get_indexes(degree, rows, cols)\n",
    "max_y = 1.05*np.array(heights).max()\n",
    "for h in heights:\n",
    "    _, ax = plt.subplots()\n",
    "    ax.set_ylim(-0.05, max_y)\n",
    "    ax.scatter(indexes, h)"
   ]
  },
  {
   "cell_type": "code",
   "execution_count": null,
   "id": "12840b75-c9a5-4d17-ae16-8a3475425be0",
   "metadata": {},
   "outputs": [],
   "source": []
  }
 ],
 "metadata": {
  "kernelspec": {
   "display_name": "Python 3",
   "language": "python",
   "name": "python3"
  },
  "language_info": {
   "codemirror_mode": {
    "name": "ipython",
    "version": 3
   },
   "file_extension": ".py",
   "mimetype": "text/x-python",
   "name": "python",
   "nbconvert_exporter": "python",
   "pygments_lexer": "ipython3",
   "version": "3.10.9"
  }
 },
 "nbformat": 4,
 "nbformat_minor": 5
}
