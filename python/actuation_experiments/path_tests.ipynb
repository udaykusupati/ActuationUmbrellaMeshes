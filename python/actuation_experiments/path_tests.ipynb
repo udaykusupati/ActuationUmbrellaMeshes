{
 "cells": [
  {
   "cell_type": "code",
   "execution_count": 1,
   "id": "ec191b62-ab75-44d2-aab1-880cff94ad5c",
   "metadata": {},
   "outputs": [],
   "source": [
    "from deploy_path import deploy_path"
   ]
  },
  {
   "cell_type": "code",
   "execution_count": 2,
   "id": "c9a43ebe-bac3-4caf-8264-8931941cbc8d",
   "metadata": {},
   "outputs": [],
   "source": [
    "data_folder_path = './../../data/'\n",
    "igloo_coars_path = './igloo_rum.json.gz' # 44\n",
    "igloo_path = data_folder_path+'igloo.json.gz' # 57\n",
    "squid_path = data_folder_path+'squidward_highres.json.gz' # 143\n",
    "saddle_path = data_folder_path+'saddle_5t.json.gz' # 31\n",
    "peanut_path = data_folder_path+'peanut_fp_low.json.gz' # 63\n",
    "\n",
    "input_path = peanut_path"
   ]
  },
  {
   "cell_type": "code",
   "execution_count": 3,
   "id": "a2db8329-79cf-4cef-a4e8-79e094781198",
   "metadata": {},
   "outputs": [],
   "source": [
    "paths = deploy_path(input_path)"
   ]
  },
  {
   "cell_type": "code",
   "execution_count": 4,
   "id": "08a263f6-d0f3-4801-9db3-db4604235d4e",
   "metadata": {},
   "outputs": [],
   "source": [
    "# paths = [paths[0]]"
   ]
  },
  {
   "cell_type": "code",
   "execution_count": 5,
   "id": "4cba0c04-92aa-4b73-ba4e-bf24b3429fb2",
   "metadata": {},
   "outputs": [
    {
     "data": {
      "text/plain": [
       "[[0, 1, 2, 3, 4, 5, 6, 7, 8, 9, 10, 11, 12]]"
      ]
     },
     "execution_count": 5,
     "metadata": {},
     "output_type": "execute_result"
    }
   ],
   "source": [
    "# all units\n",
    "nb_units = 13\n",
    "all_units = [list(range(nb_units))]\n",
    "all_units"
   ]
  },
  {
   "cell_type": "code",
   "execution_count": 6,
   "id": "cfbadfd7-5bcc-4c24-bdc8-71a247857891",
   "metadata": {},
   "outputs": [
    {
     "data": {
      "text/plain": [
       "[[7, 14, 15, 22, 23, 32, 25, 24, 23, 56, 49, 48, 41, 40, 39]]"
      ]
     },
     "execution_count": 6,
     "metadata": {},
     "output_type": "execute_result"
    }
   ],
   "source": [
    "# all paths\n",
    "all_paths = [[unit for units in paths for unit in units]]\n",
    "all_paths"
   ]
  },
  {
   "cell_type": "code",
   "execution_count": 7,
   "id": "daba8e4a-67f3-4e79-9e68-e2c02a0b2faa",
   "metadata": {},
   "outputs": [
    {
     "data": {
      "text/plain": [
       "[[7, 14, 15, 22, 23], [32, 25, 24, 23], [56, 49, 48, 41, 40, 39]]"
      ]
     },
     "execution_count": 7,
     "metadata": {},
     "output_type": "execute_result"
    }
   ],
   "source": [
    "# one_after_one\n",
    "one_after_one_paths = paths.copy()\n",
    "one_after_one_paths"
   ]
  },
  {
   "cell_type": "code",
   "execution_count": 8,
   "id": "f6baf1ba-458d-4de7-a8ff-0acc0e714c2d",
   "metadata": {},
   "outputs": [
    {
     "data": {
      "text/plain": [
       "[[7, 14, 15, 22, 23],\n",
       " [7, 14, 15, 22, 23, 32, 25, 24, 23],\n",
       " [7, 14, 15, 22, 23, 32, 25, 24, 23, 56, 49, 48, 41, 40, 39]]"
      ]
     },
     "execution_count": 8,
     "metadata": {},
     "output_type": "execute_result"
    }
   ],
   "source": [
    "# cummulative paths\n",
    "cum_path = []\n",
    "temp = []\n",
    "for p in paths:\n",
    "    temp.extend(p)\n",
    "    cum_path.append(temp.copy())\n",
    "cum_path"
   ]
  },
  {
   "cell_type": "code",
   "execution_count": 9,
   "id": "76b181b7-21db-4ed3-87cd-0e1e9c9bbb13",
   "metadata": {},
   "outputs": [
    {
     "data": {
      "text/plain": [
       "[[7, 32, 56]]"
      ]
     },
     "execution_count": 9,
     "metadata": {},
     "output_type": "execute_result"
    }
   ],
   "source": [
    "# all bumps\n",
    "all_bumps = [[path[0] for path in paths]]\n",
    "all_bumps"
   ]
  },
  {
   "cell_type": "code",
   "execution_count": 10,
   "id": "3adde260-b609-4dd5-9c10-5830d8120837",
   "metadata": {},
   "outputs": [
    {
     "data": {
      "text/plain": [
       "[[7], [32], [56]]"
      ]
     },
     "execution_count": 10,
     "metadata": {},
     "output_type": "execute_result"
    }
   ],
   "source": [
    "# one_after_one_bumps\n",
    "one_after_one_bumps = [[path[0]] for path in paths]\n",
    "one_after_one_bumps"
   ]
  },
  {
   "cell_type": "code",
   "execution_count": 11,
   "id": "039360da-2916-4557-9c90-48d9a2af62e6",
   "metadata": {},
   "outputs": [
    {
     "data": {
      "text/plain": [
       "[[7], [7, 32], [7, 32, 56]]"
      ]
     },
     "execution_count": 11,
     "metadata": {},
     "output_type": "execute_result"
    }
   ],
   "source": [
    "# cummulative bumps\n",
    "cum_bumps = []\n",
    "temp = []\n",
    "for p in paths:\n",
    "    temp.extend([p[0]])\n",
    "    cum_bumps.append(temp.copy())\n",
    "cum_bumps"
   ]
  },
  {
   "cell_type": "code",
   "execution_count": 12,
   "id": "3ba8404f-f27c-4311-8b9f-17df067d62b1",
   "metadata": {},
   "outputs": [
    {
     "data": {
      "text/plain": [
       "[[7, 14],\n",
       " [14, 15],\n",
       " [15, 22],\n",
       " [22, 23],\n",
       " [32, 25],\n",
       " [25, 24],\n",
       " [24, 23],\n",
       " [56, 49],\n",
       " [49, 48],\n",
       " [48, 41],\n",
       " [41, 40],\n",
       " [40, 39]]"
      ]
     },
     "execution_count": 12,
     "metadata": {},
     "output_type": "execute_result"
    }
   ],
   "source": [
    "# two_actuator_per_path\n",
    "one_after_one_two_actuator_per_path = []\n",
    "for path in paths:\n",
    "    for a,b in zip(path[:-1], path[1:]):\n",
    "        one_after_one_two_actuator_per_path.append([a,b])\n",
    "one_after_one_two_actuator_per_path"
   ]
  },
  {
   "cell_type": "code",
   "execution_count": 13,
   "id": "172c33a9-9917-48db-8f3b-9b90cf4209d8",
   "metadata": {},
   "outputs": [
    {
     "data": {
      "text/plain": [
       "[[7, 14, 32, 25, 56, 49],\n",
       " [14, 15, 25, 24, 49, 48],\n",
       " [15, 22, 24, 23, 48, 41],\n",
       " [22, 23, 24, 23, 41, 40],\n",
       " [22, 23, 24, 23, 40, 39]]"
      ]
     },
     "execution_count": 13,
     "metadata": {},
     "output_type": "execute_result"
    }
   ],
   "source": [
    "# two_actuator_per_path # start together\n",
    "all_start_two_actuator_per_path = []\n",
    "max_path_length = len(max(paths, key=len))-1\n",
    "for i in range(max_path_length):\n",
    "    temp = []\n",
    "    for path in paths:\n",
    "        idx = min(len(path)-2, i)\n",
    "        temp.extend(path[idx:idx+2])\n",
    "    all_start_two_actuator_per_path.append(temp)\n",
    "all_start_two_actuator_per_path"
   ]
  },
  {
   "cell_type": "code",
   "execution_count": 14,
   "id": "c35f7879-f9e4-492d-b2b7-1de116b06b4a",
   "metadata": {},
   "outputs": [
    {
     "data": {
      "text/plain": [
       "[[7, 14, 32, 25, 56, 49],\n",
       " [7, 14, 32, 25, 49, 48],\n",
       " [14, 15, 32, 25, 48, 41],\n",
       " [15, 22, 25, 24, 41, 40],\n",
       " [22, 23, 24, 23, 40, 39]]"
      ]
     },
     "execution_count": 14,
     "metadata": {},
     "output_type": "execute_result"
    }
   ],
   "source": [
    "# two_actuator_per_path # end together\n",
    "all_end_two_actuator_per_path = []\n",
    "max_path_length = len(max(paths, key=len))-1\n",
    "for i in range(max_path_length):\n",
    "    temp = []\n",
    "    for path in paths:\n",
    "        idx = max(i-(max_path_length-len(path))-1, 0)\n",
    "        temp.extend(path[idx:idx+2])\n",
    "    all_end_two_actuator_per_path.append(temp)\n",
    "all_end_two_actuator_per_path"
   ]
  },
  {
   "cell_type": "code",
   "execution_count": 15,
   "id": "ab72dab4-1dc9-4ddd-b0cb-a12f107944d7",
   "metadata": {},
   "outputs": [
    {
     "data": {
      "text/plain": [
       "[56, 49, 48, 41, 40, 39]"
      ]
     },
     "execution_count": 15,
     "metadata": {},
     "output_type": "execute_result"
    }
   ],
   "source": [
    "max(paths, key=len)"
   ]
  },
  {
   "cell_type": "code",
   "execution_count": 16,
   "id": "da2c1db6-f9dc-4fc0-8ab0-2bcaff73d487",
   "metadata": {},
   "outputs": [
    {
     "data": {
      "text/plain": [
       "0.65"
      ]
     },
     "execution_count": 16,
     "metadata": {},
     "output_type": "execute_result"
    }
   ],
   "source": [
    "steps = 20\n",
    "13/steps"
   ]
  },
  {
   "cell_type": "code",
   "execution_count": 17,
   "id": "cddbf8ca-ea45-46e5-b35e-54322c700448",
   "metadata": {},
   "outputs": [
    {
     "name": "stdout",
     "output_type": "stream",
     "text": [
      "60\n"
     ]
    }
   ],
   "source": [
    "from math import gcd\n",
    "a = [len(paths), len(one_after_one_two_actuator_per_path), len(all_end_two_actuator_per_path)]   #will work for an int array of any length\n",
    "lcm = 1\n",
    "for i in a:\n",
    "    lcm = lcm*i//gcd(lcm, i)\n",
    "print(lcm)"
   ]
  },
  {
   "cell_type": "code",
   "execution_count": 18,
   "id": "57f3f6a3-63c0-4c26-bf28-ea1ca4c0e158",
   "metadata": {},
   "outputs": [
    {
     "data": {
      "text/plain": [
       "'\\n\\nactive_cells_cum = []\\n    temp_cum = []\\n    for cells in active_cells:\\n        temp_cum.extend(cells)\\n        active_cells_cum.append(temp_cum.copy()) # contains active cells multiple times\\n    \\n    # list to record differents active_cells deployments to compare\\n    # start with having all units active (deploy in same phases as shortest_paths)\\n    active_cells_lst = [[list(range(curr_um.numUmbrellas()))]]\\n    active_cells_lst.append(active_cells_lst)\\n    \\n    target_percents = [[100]*len(ls) for ls in active_cells]\\n    target_percents_cum = [[100]*len(ls) for ls in active_cells_cum]\\n    \\n    \\n    '"
      ]
     },
     "execution_count": 18,
     "metadata": {},
     "output_type": "execute_result"
    }
   ],
   "source": [
    "'''\n",
    "\n",
    "active_cells_cum = []\n",
    "    temp_cum = []\n",
    "    for cells in active_cells:\n",
    "        temp_cum.extend(cells)\n",
    "        active_cells_cum.append(temp_cum.copy()) # contains active cells multiple times\n",
    "    \n",
    "    # list to record differents active_cells deployments to compare\n",
    "    # start with having all units active (deploy in same phases as shortest_paths)\n",
    "    active_cells_lst = [[list(range(curr_um.numUmbrellas()))]]\n",
    "    active_cells_lst.append(active_cells_lst)\n",
    "    \n",
    "    target_percents = [[100]*len(ls) for ls in active_cells]\n",
    "    target_percents_cum = [[100]*len(ls) for ls in active_cells_cum]\n",
    "    \n",
    "    \n",
    "    '''"
   ]
  }
 ],
 "metadata": {
  "kernelspec": {
   "display_name": "Python 3",
   "language": "python",
   "name": "python3"
  },
  "language_info": {
   "codemirror_mode": {
    "name": "ipython",
    "version": 3
   },
   "file_extension": ".py",
   "mimetype": "text/x-python",
   "name": "python",
   "nbconvert_exporter": "python",
   "pygments_lexer": "ipython3",
   "version": "3.10.9"
  }
 },
 "nbformat": 4,
 "nbformat_minor": 5
}
