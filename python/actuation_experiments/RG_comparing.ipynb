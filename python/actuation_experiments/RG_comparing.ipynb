{
 "cells": [
  {
   "cell_type": "code",
   "execution_count": 16,
   "id": "d93ef796-5190-4082-a4bd-35a0f6a83f22",
   "metadata": {},
   "outputs": [],
   "source": [
    "from tools import *\n",
    "from plots import *\n",
    "from RegularGrid import RegularGrid"
   ]
  },
  {
   "cell_type": "code",
   "execution_count": 17,
   "id": "8e25057e-ec73-4b1a-8dc0-049565f63542",
   "metadata": {},
   "outputs": [
    {
     "name": "stdout",
     "output_type": "stream",
     "text": [
      "The autoreload extension is already loaded. To reload it, use:\n",
      "  %reload_ext autoreload\n"
     ]
    }
   ],
   "source": [
    "# reload automaticaly external modules\n",
    "%load_ext autoreload\n",
    "%autoreload 2"
   ]
  },
  {
   "cell_type": "markdown",
   "id": "b80d71c9-018e-4a12-abac-41edc1ac3add",
   "metadata": {
    "tags": []
   },
   "source": [
    "### **Python file**"
   ]
  },
  {
   "cell_type": "code",
   "execution_count": 18,
   "id": "acc0b86f-e654-4050-9ef2-dd812da3c5d1",
   "metadata": {},
   "outputs": [
    {
     "data": {
      "text/plain": [
       "'formatage/665'"
      ]
     },
     "execution_count": 18,
     "metadata": {},
     "output_type": "execute_result"
    }
   ],
   "source": [
    "import random\n",
    "category_name = f'formatage/{random.randint(0, 1000)}'\n",
    "category_name"
   ]
  },
  {
   "cell_type": "markdown",
   "id": "d74b2294-d193-4c12-82fe-631548c89880",
   "metadata": {},
   "source": [
    "### **Load Results**"
   ]
  },
  {
   "cell_type": "code",
   "execution_count": 37,
   "id": "ae3e7ce7",
   "metadata": {},
   "outputs": [],
   "source": [
    "connectivity,        \\\n",
    "init_center_pos,     \\\n",
    "heights,             \\\n",
    "active_cells,        \\\n",
    "percents_per_steps,  \\\n",
    "stresses_per_steps = \\\n",
    "    read_results(path_name)"
   ]
  },
  {
   "cell_type": "code",
   "execution_count": 35,
   "id": "fb5f5f93-a7e5-42d1-a89d-7a1d8568db27",
   "metadata": {},
   "outputs": [],
   "source": [
    "plot2D_steps(connectivity,\n",
    "             active_cells,\n",
    "             percents_per_steps,\n",
    "             init_center_pos,\n",
    "             stresses_per_steps,\n",
    "             stress_type='maxBending',\n",
    "             dir_name=path_name,\n",
    "             show_percent=False,\n",
    "             show_plot=False)"
   ]
  }
 ],
 "metadata": {
  "kernelspec": {
   "display_name": "Python 3",
   "language": "python",
   "name": "python3"
  },
  "language_info": {
   "codemirror_mode": {
    "name": "ipython",
    "version": 3
   },
   "file_extension": ".py",
   "mimetype": "text/x-python",
   "name": "python",
   "nbconvert_exporter": "python",
   "pygments_lexer": "ipython3",
   "version": "3.10.9"
  }
 },
 "nbformat": 4,
 "nbformat_minor": 5
}
