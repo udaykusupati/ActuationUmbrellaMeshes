{
 "cells": [
  {
   "cell_type": "code",
   "execution_count": 21,
   "id": "bc4709a7-f36d-44f2-9c90-ea7043477e13",
   "metadata": {},
   "outputs": [],
   "source": [
    "from images import generate_stresses_1D, generate_heightsEnergies_1D\n",
    "from tools import img_to_gif_1D"
   ]
  },
  {
   "cell_type": "code",
   "execution_count": 22,
   "id": "3d67aba6-bdeb-4169-87af-f44f9d0ad07c",
   "metadata": {},
   "outputs": [],
   "source": [
    "save_dir = 'outputs/peanut_15steps/{}'"
   ]
  },
  {
   "cell_type": "markdown",
   "id": "0e649fff-545e-4200-822a-48047f05bfc0",
   "metadata": {},
   "source": [
    "### **generate**"
   ]
  },
  {
   "cell_type": "code",
   "execution_count": 23,
   "id": "9aea9578-7581-42c8-94fc-b42c4cfb03d7",
   "metadata": {
    "tags": []
   },
   "outputs": [],
   "source": [
    "if len(paths) != len(deployments):\n",
    "    raise ValueError(f'we should have one-to-one correspondence between paths and deployments, we got {len(paths)}-to-{len(deployments)}')"
   ]
  },
  {
   "cell_type": "code",
   "execution_count": 25,
   "id": "5ecfe127-fd32-48d9-82b1-fc9a1e0407f7",
   "metadata": {
    "tags": []
   },
   "outputs": [],
   "source": [
    "generate_stresses_1D       (paths, deployments, save_dir.format(name), stress_type='VonMises')\n",
    "generate_heightsEnergies_1D(paths, deployments, save_dir.format(name))"
   ]
  },
  {
   "cell_type": "code",
   "execution_count": 26,
   "id": "27a9c122-bfcc-4f9a-8c58-d9e2d1b309b5",
   "metadata": {},
   "outputs": [],
   "source": [
    "steps = 20\n",
    "img_to_gif_1D(save_dir.format(name), stress_type='VonMises', duration=3000/steps, loop=2)"
   ]
  },
  {
   "cell_type": "markdown",
   "id": "b80d71c9-018e-4a12-abac-41edc1ac3add",
   "metadata": {
    "tags": []
   },
   "source": [
    "### **Results paths**"
   ]
  },
  {
   "cell_type": "code",
   "execution_count": 8,
   "id": "f1bd3df7-6b5c-4e3f-97a7-3b3e72f42bf3",
   "metadata": {},
   "outputs": [],
   "source": [
    "name = 'compare_bumps'\n",
    "paths = ['outputs/peanut_15steps/03_bumps_all_at_once',\n",
    "         'outputs/peanut_15steps/03_bumps_one_after_one',\n",
    "         'outputs/peanut_15steps/03_bumps_cum']\n",
    "deployments = ['linear']*len(paths)"
   ]
  },
  {
   "cell_type": "code",
   "execution_count": 12,
   "id": "54089365-be19-46eb-b070-c0b3e22783ac",
   "metadata": {},
   "outputs": [],
   "source": [
    "name = 'compare_paths'\n",
    "paths = ['outputs/peanut_15steps/03_paths_all_at_once',\n",
    "         'outputs/peanut_15steps/03_paths_one_after_one',\n",
    "         'outputs/peanut_15steps/03_paths_cum']\n",
    "deployments = ['linear']*len(paths)"
   ]
  },
  {
   "cell_type": "code",
   "execution_count": 16,
   "id": "83012801-e5e2-4b19-bfbd-c10f968b55b8",
   "metadata": {},
   "outputs": [],
   "source": [
    "name = 'compare_actuators'\n",
    "paths = ['outputs/peanut_15steps/03_actuators_path_one_after_one',\n",
    "         'outputs/peanut_15steps/03_actuators_two_per_path',\n",
    "         'outputs/peanut_15steps/03_actuators_two_per_path_end']\n",
    "deployments = ['linear']*len(paths)"
   ]
  },
  {
   "cell_type": "code",
   "execution_count": 24,
   "id": "b3803420-bdc8-404a-9897-19acd4895534",
   "metadata": {},
   "outputs": [],
   "source": [
    "name = 'compare_cum'\n",
    "paths = ['outputs/peanut_15steps/03_paths_cum',\n",
    "         'outputs/peanut_15steps/03_bumps_cum']\n",
    "deployments = ['linear']*len(paths)"
   ]
  },
  {
   "cell_type": "code",
   "execution_count": 4,
   "id": "efe1d1c2-12ff-4137-997e-fa84d1ea9336",
   "metadata": {},
   "outputs": [],
   "source": [
    "name = 'compare_all'\n",
    "paths = ['outputs/peanut_15steps/03_units_all_at_once',\n",
    "         'outputs/peanut_15steps/03_paths_all_at_once',\n",
    "         'outputs/peanut_15steps/03_paths_one_after_one',\n",
    "         'outputs/peanut_15steps/03_paths_cum',\n",
    "         'outputs/peanut_15steps/03_bumps_all_at_once',\n",
    "         'outputs/peanut_15steps/03_bumps_one_after_one',\n",
    "         'outputs/peanut_15steps/03_bumps_cum',\n",
    "         'outputs/peanut_15steps/03_actuators_path_one_after_one',\n",
    "         'outputs/peanut_15steps/03_actuators_two_per_path',\n",
    "         'outputs/peanut_15steps/03_actuators_two_per_path_end']\n",
    "deployments = ['linear']*len(paths)"
   ]
  },
  {
   "cell_type": "code",
   "execution_count": 4,
   "id": "63b37f88-b67a-49de-8bb4-b2e5c59e55d5",
   "metadata": {},
   "outputs": [],
   "source": [
    "name = 'comparing'\n",
    "paths = ['outputs/shortest_path/compare/03_all',\n",
    "         'outputs/shortest_path/compare/03_shortest_path',\n",
    "        'outputs/shortest_path/compare/03_two_actuators']\n",
    "deployments = ['linear']*len(paths)"
   ]
  },
  {
   "cell_type": "code",
   "execution_count": null,
   "id": "d4f18f4e-1c20-419e-8d24-42310fa3a606",
   "metadata": {
    "tags": []
   },
   "outputs": [],
   "source": [
    "name = 'phase_test'\n",
    "paths = ['outputs/phase_compare/03_saddle_left_then_right',\n",
    "         'outputs/phase_compare/03_saddle_left_then_right000']\n",
    "deployments = ['linear']*len(paths)"
   ]
  },
  {
   "cell_type": "code",
   "execution_count": null,
   "id": "5a552d9c-7177-4686-9f84-c333174fb234",
   "metadata": {},
   "outputs": [],
   "source": [
    "name = 'igloo_50'\n",
    "paths = ['outputs/external/03_igloo_all_50',\n",
    "         'outputs/external/03_igloo_highest_50']\n",
    "deployments = ['linear']*len(paths)"
   ]
  },
  {
   "cell_type": "code",
   "execution_count": null,
   "id": "9ad8c1af-2a68-4ec3-b2d4-800579e8a1d7",
   "metadata": {},
   "outputs": [],
   "source": [
    "name = 'igloo_all_highest'\n",
    "paths = ['outputs/external/03_igloo_10', 'outputs/external/03_igloo_the_highest']\n",
    "deployments = ['linear']*len(paths)"
   ]
  },
  {
   "cell_type": "code",
   "execution_count": null,
   "id": "d5e0bbe2-6bd8-42d8-a471-972850612c37",
   "metadata": {},
   "outputs": [],
   "source": [
    "name = 'igloo_border'\n",
    "paths = ['outputs/external/03_igloo_10',\n",
    "         'outputs/external/03_igloo_top_bottom',\n",
    "         'outputs/external/03_igloo_externals_units',\n",
    "        'outputs/external/03_igloo_complete_border',]\n",
    "deployments = ['linear']*len(paths)"
   ]
  },
  {
   "cell_type": "code",
   "execution_count": null,
   "id": "78dec2c0-3c94-41bc-8155-2d1d3071219e",
   "metadata": {},
   "outputs": [],
   "source": [
    "name = 'igloo_center'\n",
    "paths = ['outputs/external/03_igloo_10',\n",
    "         'outputs/external/03_igloo_center_highest',\n",
    "         'outputs/external/03_igloo_the_highest',\n",
    "        'outputs/external/03_igloo_center_but_highest',]\n",
    "deployments = ['linear']*len(paths)"
   ]
  },
  {
   "cell_type": "code",
   "execution_count": null,
   "id": "4268cfd4-51dc-40d7-a2c0-bb719922f732",
   "metadata": {},
   "outputs": [],
   "source": [
    "name = 'incremental_vs_linear'\n",
    "paths = ['outputs/regular_grid/03_01_04_row_allActive_0to7',\n",
    "         'outputs/regular_grid/03_01_04_row_allActive_0to7',\n",
    "         'outputs/regular_grid/03_01_04_row_d7_u0']\n",
    "deployments = ['incremental','linear','linear']"
   ]
  },
  {
   "cell_type": "code",
   "execution_count": null,
   "id": "c0494ecb-aa06-4ef8-b8ff-fea978b26e04",
   "metadata": {},
   "outputs": [],
   "source": [
    "name = 'all_rows'\n",
    "paths = []\n",
    "for i in range(1,8):\n",
    "    paths.append(f'outputs/regular_grid/03_01_04_row_d{i}_u0')\n",
    "deployments = ['linear']*len(paths)"
   ]
  },
  {
   "cell_type": "code",
   "execution_count": null,
   "id": "4c2364b1-a393-4907-a380-34dad5f88e7b",
   "metadata": {},
   "outputs": [],
   "source": [
    "name = 'all_cols'\n",
    "paths = []\n",
    "for i in range(1,8):\n",
    "    paths.append(f'outputs/regular_grid/03_04_01_col_d{i}_u0')\n",
    "deployments = ['linear']*len(paths)"
   ]
  },
  {
   "cell_type": "code",
   "execution_count": null,
   "id": "3d94b596-6049-4142-9f52-3a1f07f13342",
   "metadata": {},
   "outputs": [],
   "source": [
    "name = 'rows_and_cols'\n",
    "paths = []\n",
    "for i in range(1,8):\n",
    "    paths.append(f'outputs/regular_grid/03_04_01_col_d{i}_u0')\n",
    "    paths.append(f'outputs/regular_grid/03_01_04_row_d{i}_u0')\n",
    "deployments = ['linear']*len(paths)"
   ]
  },
  {
   "cell_type": "code",
   "execution_count": null,
   "id": "910a5795-fbfe-4d26-a093-1dff745c318c",
   "metadata": {},
   "outputs": [],
   "source": [
    "name = 'row_vs_col_max'\n",
    "paths = ['outputs/regular_grid/03_04_01_col_d7_u0', 'outputs/regular_grid/03_01_04_row_d7_u0']\n",
    "deployments = ['linear']*len(paths)"
   ]
  },
  {
   "cell_type": "code",
   "execution_count": null,
   "id": "4a2ec7aa-8d5a-4d9d-aadc-6dc1ced9aed0",
   "metadata": {},
   "outputs": [],
   "source": [
    "name = '6x6_dVline_u24'\n",
    "paths = []\n",
    "for i in range(1,6):\n",
    "    paths.append(f'outputs/regular_grid/03_06_06_dVline{i}_u24')\n",
    "deployments = ['linear']*len(paths)"
   ]
  },
  {
   "cell_type": "code",
   "execution_count": null,
   "id": "03dbb897-7008-4ed9-8fe6-9d85fb24cb29",
   "metadata": {},
   "outputs": [],
   "source": [
    "name = '6x6_dHline_u5'\n",
    "paths = []\n",
    "for i in range(1,6):\n",
    "    paths.append(f'outputs/regular_grid/03_06_06_dHline{i}_u5')\n",
    "deployments = ['linear']*len(paths)"
   ]
  },
  {
   "cell_type": "code",
   "execution_count": null,
   "id": "77c231c8-16c7-42f2-b0c2-88973839cdf2",
   "metadata": {},
   "outputs": [],
   "source": [
    "name = '6x6_d5_uHline'\n",
    "paths = []\n",
    "for i in range(1,6):\n",
    "    paths.append(f'outputs/regular_grid/03_06_06_d5_uHline{i}')\n",
    "deployments = ['linear']*len(paths)"
   ]
  },
  {
   "cell_type": "code",
   "execution_count": null,
   "id": "30807cb4-b9f4-4b91-8ce8-e0aaf27f63cb",
   "metadata": {},
   "outputs": [],
   "source": [
    "name = '6x6_Hline_all'\n",
    "paths = []\n",
    "for i in range(1,6):\n",
    "    paths.append(f'outputs/regular_grid/03_06_06_d5_uHline{i}')\n",
    "for i in range(1,6):\n",
    "    paths.append(f'outputs/regular_grid/03_06_06_dHline{i}_u5')\n",
    "deployments = ['linear']*len(paths)"
   ]
  },
  {
   "cell_type": "code",
   "execution_count": null,
   "id": "8e38cf2e-b7de-4cd1-90d3-c507835a4e5a",
   "metadata": {},
   "outputs": [],
   "source": [
    "name = '6x6_d24_uVline'\n",
    "paths = []\n",
    "for i in range(1,6):\n",
    "    paths.append(f'outputs/regular_grid/03_06_06_d24_uVline{i}')\n",
    "deployments = ['linear']*len(paths)"
   ]
  },
  {
   "cell_type": "code",
   "execution_count": null,
   "id": "41dd3e94-ab77-47a4-9da4-9e9592e6db57",
   "metadata": {},
   "outputs": [],
   "source": [
    "name = '6x6_dVline_vs_uVline'\n",
    "paths = ['outputs/regular_grid/03_06_06_d24_uVline5','outputs/regular_grid/03_06_06_dVline5_u24']\n",
    "deployments = ['linear']*len(paths)"
   ]
  },
  {
   "cell_type": "code",
   "execution_count": null,
   "id": "967b9d83-0c71-46c9-a218-418b6191f461",
   "metadata": {},
   "outputs": [],
   "source": [
    "name = 'double_lines_aligned'\n",
    "paths = ['outputs/regular_grid/04_06_06_aligned1',\n",
    "         'outputs/regular_grid/04_06_06_aligned2',\n",
    "         'outputs/regular_grid/04_06_06_aligned3']\n",
    "deployments = ['linear']*len(paths)\n",
    "# -> 2 is close to 1 for stress but close to 3 for energy... !"
   ]
  },
  {
   "cell_type": "code",
   "execution_count": null,
   "id": "1141b1c2-42da-44a7-ac7b-3c36637662fb",
   "metadata": {},
   "outputs": [],
   "source": [
    "name = 'double_lines_aligned_lin_vs_incr'\n",
    "paths = ['outputs/regular_grid/04_06_06_aligned1']*2\n",
    "deployments = ['linear', 'incremental']"
   ]
  },
  {
   "cell_type": "code",
   "execution_count": null,
   "id": "07bd89dd-3dde-418c-95cb-24a996e93537",
   "metadata": {},
   "outputs": [],
   "source": [
    "name = 'row_5_u0_vs_d0'\n",
    "paths = ['outputs/regular_grid/03_01_04_row_d5_u0', 'outputs/regular_grid/03_01_04_row_d0_u5']\n",
    "deployments = ['linear']*len(paths)\n",
    "# -> exact same (symetrie)"
   ]
  },
  {
   "cell_type": "code",
   "execution_count": null,
   "id": "c78a998c-264d-4410-b30c-951b3bf059ad",
   "metadata": {},
   "outputs": [],
   "source": [
    "name = 'border_center_06'\n",
    "paths = ['outputs/regular_grid/03_06_06_dBorder_uCenter', 'outputs/regular_grid/03_06_06_dCenter_uBorder']\n",
    "deployments = ['linear']*len(paths)\n",
    "# -> exact same (symetrie)"
   ]
  },
  {
   "cell_type": "code",
   "execution_count": null,
   "id": "04744f76-5ccd-438a-969d-99ee61425da5",
   "metadata": {},
   "outputs": [],
   "source": [
    "name = 'cross'\n",
    "paths = []\n",
    "for i in range(1,7):\n",
    "    paths.append(f'outputs/regular_grid/04_06_06_cross{i}')\n",
    "deployments = ['linear']*len(paths)"
   ]
  }
 ],
 "metadata": {
  "kernelspec": {
   "display_name": "Python 3",
   "language": "python",
   "name": "python3"
  },
  "language_info": {
   "codemirror_mode": {
    "name": "ipython",
    "version": 3
   },
   "file_extension": ".py",
   "mimetype": "text/x-python",
   "name": "python",
   "nbconvert_exporter": "python",
   "pygments_lexer": "ipython3",
   "version": "3.10.9"
  }
 },
 "nbformat": 4,
 "nbformat_minor": 5
}
