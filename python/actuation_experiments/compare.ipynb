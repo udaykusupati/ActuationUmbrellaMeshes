{
 "cells": [
  {
   "cell_type": "code",
   "execution_count": 1,
   "id": "3b543f9c-14de-4707-8827-771e9672509c",
   "metadata": {},
   "outputs": [],
   "source": [
    "from compare import compare"
   ]
  },
  {
   "cell_type": "code",
   "execution_count": 2,
   "id": "3a503efd-a432-4a8e-b155-af7590e72c51",
   "metadata": {},
   "outputs": [],
   "source": [
    "# compare(paths, name, nb_steps, stresses=['VonMises'], gif_duration=5, loop=2, deployments=None)"
   ]
  },
  {
   "cell_type": "code",
   "execution_count": 51,
   "id": "290899fa-56d8-4966-99b8-f1fd30dbdfde",
   "metadata": {},
   "outputs": [],
   "source": [
    "paths = [\n",
    "# 'outputs/squid/sp/03_sp_AAO_N',\n",
    "# 'outputs/squid/sp/03_sp_AAO_S',\n",
    "# 'outputs/squid/sp/03_AAO_bropExtAtBound',\n",
    "'outputs/squid/sp/03_AAO_forceSmallest',\n",
    "# 'outputs/squid/sp/03_mainDomeFirst',\n",
    "# 'outputs/squid/sp/03_mainDomeFirst_bropExtAtBound',\n",
    "'outputs/squid/sp/03_mainDomeFirst_forceSmalest',\n",
    "# 'outputs/squid/sp/03_mainDomeSec',\n",
    "# 'outputs/squid/sp/03_mainDomeSec_bropExtAtBound',\n",
    "'outputs/squid/sp/03_mainDomeSec_forceSmalest',\n",
    "# 'outputs/squid/sp/03_actuators_two_per_path_lvl10',\n",
    "]\n",
    "name = 'all_forceSmallest'\n",
    "nb_steps=15"
   ]
  },
  {
   "cell_type": "code",
   "execution_count": null,
   "id": "b71b8e12-fcaf-4bae-ad0e-a45fe79ded91",
   "metadata": {},
   "outputs": [
    {
     "name": "stdout",
     "output_type": "stream",
     "text": [
      "save_dir = 'outputs/peanut/sp/compare_2act'\n"
     ]
    }
   ],
   "source": [
    "compare(paths, name, nb_steps)"
   ]
  },
  {
   "cell_type": "code",
   "execution_count": null,
   "id": "2b83c642-442e-4289-a240-98eff1fc6cde",
   "metadata": {
    "jupyter": {
     "source_hidden": true
    },
    "tags": []
   },
   "outputs": [],
   "source": []
  },
  {
   "cell_type": "code",
   "execution_count": null,
   "id": "b4f86c03-5a8a-4e08-8fbd-6e7c88198068",
   "metadata": {},
   "outputs": [],
   "source": [
    "paths = [\n",
    "# 'outputs/peanut/dpr_bmp/03_bumps_only_centralFirst',\n",
    "# 'outputs/peanut/dpr_bmp/03_bumps_only_centralfirst_then_others',\n",
    "# 'outputs/peanut/dpr_bmp/03_bumps_only_centralMid',\n",
    "# 'outputs/peanut/dpr_bmp/03_dpr_and_bmp',\n",
    "'outputs/peanut/dpr_bmp/03_dpr_and_bmp_N_99',\n",
    "# 'outputs/peanut/dpr_bmp/03_dpr_then_bmp_99',\n",
    "'outputs/peanut/dpr_bmp/03_dpr_then_bmp_N',\n",
    "# 'outputs/peanut/dpr_bmp/03_dpr_then_dprAndBmp_99',\n",
    "'outputs/peanut/dpr_bmp/03_dpr_then_dprAndBmp_N_99',\n",
    "]\n",
    "name = 'all_dprATbmp_N'\n",
    "nb_steps=15"
   ]
  },
  {
   "cell_type": "code",
   "execution_count": null,
   "id": "ddc91830-af8d-47c1-b2bb-63a992ec39e9",
   "metadata": {},
   "outputs": [],
   "source": []
  },
  {
   "cell_type": "code",
   "execution_count": null,
   "id": "70dc8eb6-85de-497a-99f6-447ec9dabf28",
   "metadata": {},
   "outputs": [],
   "source": []
  },
  {
   "cell_type": "code",
   "execution_count": 5,
   "id": "ce6c87c8-d1b4-4311-a6e0-c9796ad92103",
   "metadata": {},
   "outputs": [
    {
     "ename": "NotImplementedError",
     "evalue": "stop notebook here",
     "output_type": "error",
     "traceback": [
      "\u001b[0;31m---------------------------------------------------------------------------\u001b[0m",
      "\u001b[0;31mNotImplementedError\u001b[0m                       Traceback (most recent call last)",
      "Cell \u001b[0;32mIn[5], line 1\u001b[0m\n\u001b[0;32m----> 1\u001b[0m \u001b[38;5;28;01mraise\u001b[39;00m \u001b[38;5;167;01mNotImplementedError\u001b[39;00m(\u001b[38;5;124m\"\u001b[39m\u001b[38;5;124mstop notebook here\u001b[39m\u001b[38;5;124m\"\u001b[39m)\n",
      "\u001b[0;31mNotImplementedError\u001b[0m: stop notebook here"
     ]
    }
   ],
   "source": [
    "raise NotImplementedError(\"stop notebook here\")"
   ]
  },
  {
   "cell_type": "code",
   "execution_count": null,
   "id": "bc4709a7-f36d-44f2-9c90-ea7043477e13",
   "metadata": {},
   "outputs": [],
   "source": [
    "from images import generate_stresses_1D, generate_heightsEnergies_1D\n",
    "from tools import img_to_gif_1D"
   ]
  },
  {
   "cell_type": "code",
   "execution_count": null,
   "id": "3d67aba6-bdeb-4169-87af-f44f9d0ad07c",
   "metadata": {},
   "outputs": [],
   "source": [
    "save_dir = 'outputs/peanut_15steps/{}'"
   ]
  },
  {
   "cell_type": "markdown",
   "id": "0e649fff-545e-4200-822a-48047f05bfc0",
   "metadata": {},
   "source": [
    "### **generate**"
   ]
  },
  {
   "cell_type": "code",
   "execution_count": null,
   "id": "9aea9578-7581-42c8-94fc-b42c4cfb03d7",
   "metadata": {
    "tags": []
   },
   "outputs": [],
   "source": [
    "if len(paths) != len(deployments):\n",
    "    raise ValueError(f'we should have one-to-one correspondence between paths and deployments, we got {len(paths)}-to-{len(deployments)}')"
   ]
  },
  {
   "cell_type": "code",
   "execution_count": null,
   "id": "5ecfe127-fd32-48d9-82b1-fc9a1e0407f7",
   "metadata": {
    "tags": []
   },
   "outputs": [],
   "source": [
    "generate_stresses_1D       (paths, deployments, save_dir.format(name), stress_type='VonMises')\n",
    "generate_heightsEnergies_1D(paths, deployments, save_dir.format(name))"
   ]
  },
  {
   "cell_type": "code",
   "execution_count": null,
   "id": "27a9c122-bfcc-4f9a-8c58-d9e2d1b309b5",
   "metadata": {},
   "outputs": [],
   "source": [
    "steps = 20\n",
    "img_to_gif_1D(save_dir.format(name), stress_type='VonMises', duration=3000/steps, loop=2)"
   ]
  }
 ],
 "metadata": {
  "kernelspec": {
   "display_name": "Python 3",
   "language": "python",
   "name": "python3"
  },
  "language_info": {
   "codemirror_mode": {
    "name": "ipython",
    "version": 3
   },
   "file_extension": ".py",
   "mimetype": "text/x-python",
   "name": "python",
   "nbconvert_exporter": "python",
   "pygments_lexer": "ipython3",
   "version": "3.8.10"
  }
 },
 "nbformat": 4,
 "nbformat_minor": 5
}
