{
 "cells": [
  {
   "cell_type": "code",
   "execution_count": 1,
   "id": "ec93854c-ff9f-49ce-a5b0-0a794ddffed5",
   "metadata": {},
   "outputs": [],
   "source": [
    "from helpers import *"
   ]
  },
  {
   "cell_type": "code",
   "execution_count": 2,
   "id": "8bbb34f0-d027-4966-bd61-4044156791bd",
   "metadata": {},
   "outputs": [],
   "source": [
    "import sys\n",
    "sys.path.append('..')\n",
    "import umbrella_mesh\n",
    "import linkage_vis\n",
    "import load_jsondata\n",
    "from configuration import *\n",
    "from visualization_helper import *"
   ]
  },
  {
   "cell_type": "code",
   "execution_count": 3,
   "id": "5030bd74-1a43-439f-8fed-7f61a45859b3",
   "metadata": {},
   "outputs": [],
   "source": [
    "import numpy as np"
   ]
  },
  {
   "cell_type": "code",
   "execution_count": 4,
   "id": "9170a7d5-9b0f-42cd-9f62-d941aa6f5439",
   "metadata": {},
   "outputs": [],
   "source": [
    "sys.path.append('../UmbrellaGen')\n",
    "import grid_gen"
   ]
  },
  {
   "cell_type": "markdown",
   "id": "d1702687-abad-45f0-b0a2-e5170f23bdd2",
   "metadata": {},
   "source": [
    "### Define the grid dimensions and Umbrella Valence you want"
   ]
  },
  {
   "cell_type": "code",
   "execution_count": 5,
   "id": "acf0f88b-4bef-4e92-95d8-0b1d76ed2ed2",
   "metadata": {},
   "outputs": [],
   "source": [
    "rows = 2\n",
    "cols = 2 # one col is two element : /\\ + \\/"
   ]
  },
  {
   "cell_type": "code",
   "execution_count": 6,
   "id": "0eb62742",
   "metadata": {},
   "outputs": [
    {
     "ename": "NameError",
     "evalue": "name 'get_num_cells' is not defined",
     "output_type": "error",
     "traceback": [
      "\u001b[0;31m---------------------------------------------------------------------------\u001b[0m",
      "\u001b[0;31mNameError\u001b[0m                                 Traceback (most recent call last)",
      "Cell \u001b[0;32mIn[6], line 2\u001b[0m\n\u001b[1;32m      1\u001b[0m degree \u001b[38;5;241m=\u001b[39m \u001b[38;5;241m3\u001b[39m \u001b[38;5;66;03m# TriUmbrellas\u001b[39;00m\n\u001b[0;32m----> 2\u001b[0m numUmbrellas \u001b[38;5;241m=\u001b[39m \u001b[43mget_num_cells\u001b[49m(rows, cols)\n",
      "\u001b[0;31mNameError\u001b[0m: name 'get_num_cells' is not defined"
     ]
    }
   ],
   "source": [
    "degree = 3 # TriUmbrellas\n",
    "numUmbrellas = get_num_cells(rows, cols)"
   ]
  },
  {
   "cell_type": "markdown",
   "id": "5c992cd9-4d52-4d03-a4c1-635f23c4d1f4",
   "metadata": {
    "tags": []
   },
   "source": [
    "### Define your favorite height, material and cross-section function! Umbrellas are sequenced row-wise if you use the grid"
   ]
  },
  {
   "cell_type": "code",
   "execution_count": null,
   "id": "b5394c78",
   "metadata": {},
   "outputs": [],
   "source": [
    "height_scales = height_cst(rows, cols)\n",
    "print(f\"There is {numUmbrellas} cells with respective heights:\\n{height_scales}\")"
   ]
  },
  {
   "cell_type": "markdown",
   "id": "8ba050e5-9165-48c4-b734-a2a30bc727e5",
   "metadata": {
    "tags": []
   },
   "source": [
    "### Compute Geometry with Regular Grid"
   ]
  },
  {
   "cell_type": "code",
   "execution_count": null,
   "id": "306c46fe-2cf1-4124-8ea3-ea65f61a584c",
   "metadata": {},
   "outputs": [],
   "source": [
    "# The height function is a scaling function relative to the minHeight\n",
    "minHeight = 64\n",
    "grid_gen.genUmbrellaWithHeights(degree, rows, cols, height_scales = height_scales, minHeight = minHeight)"
   ]
  },
  {
   "cell_type": "markdown",
   "id": "c962dee0-065b-40a8-a6ff-e2beedf85e56",
   "metadata": {
    "tags": []
   },
   "source": [
    "### Initialization of Umbrella Class"
   ]
  },
  {
   "cell_type": "code",
   "execution_count": null,
   "id": "073c77ca-e2da-4fdd-bf0e-37d3d9f701a0",
   "metadata": {},
   "outputs": [],
   "source": [
    "name = 'grid_dump'\n",
    "input_path = '../UmbrellaGen/{}.json.gz'.format(name)\n",
    "io, input_data, target_mesh, curr_um, plate_thickness_scaled, target_height_multiplier = parse_input(input_path, handleBoundary = False, isHex = (degree==6), use_target_surface = False)\n",
    "print(f\"\\\n",
    "PLATE CHARACTERISTIQUES:\\n\\\n",
    "\\tplate thickness   : {input_data['thickness'], plate_thickness_scaled}\\n\\\n",
    "\\tplate edge length : {input_data['plate_edge_length']}\")"
   ]
  },
  {
   "cell_type": "markdown",
   "id": "6d84520c-e986-4a9c-9196-3d42b130910d",
   "metadata": {},
   "source": [
    "### Undeployed Schema"
   ]
  },
  {
   "cell_type": "code",
   "execution_count": null,
   "id": "66538820",
   "metadata": {},
   "outputs": [],
   "source": [
    "plot2D(input_data, curr_um)"
   ]
  },
  {
   "cell_type": "markdown",
   "id": "e962949f-5d9c-4510-a74c-9a6ce117270b",
   "metadata": {},
   "source": [
    "### 3D Structure"
   ]
  },
  {
   "cell_type": "code",
   "execution_count": null,
   "id": "6eb7ccad-a36b-480e-b52e-69fac5cfa4fd",
   "metadata": {
    "tags": []
   },
   "outputs": [],
   "source": [
    "rod_colors = get_color_field(curr_um, input_data, uidBased = False) \n",
    "lview = linkage_vis.LinkageViewer(curr_um, width=800, height=600)\n",
    "lview.update(scalarField = rod_colors)\n",
    "lview.show()"
   ]
  },
  {
   "cell_type": "markdown",
   "id": "d4a82bfd-444c-424b-b6d9-5694c15b0f75",
   "metadata": {
    "tags": []
   },
   "source": [
    "### Set Target Height"
   ]
  },
  {
   "cell_type": "code",
   "execution_count": null,
   "id": "4800f673-71e9-4ca1-9bcb-88ca1f466e6f",
   "metadata": {},
   "outputs": [],
   "source": [
    "# Percents\n",
    "active_cells    = [0, numUmbrellas-1] # cells indexes\n",
    "target_percents = [0, 100] # openning percent (0 means close cell)\n",
    "target_heights = percent_to_height(curr_um.umbrellaHeights, input_data['thickness'], active_cells, target_percents)"
   ]
  },
  {
   "cell_type": "code",
   "execution_count": null,
   "id": "ce66d1a4-0506-4bea-ade4-dc053bb8134e",
   "metadata": {},
   "outputs": [],
   "source": [
    "# VALIDATE INPUT\n",
    "assert min(active_cells)>=0, 'active cells indexes should be positive'\n",
    "assert max(active_cells)<curr_um.numUmbrellas(), f'active cells indexes are too big (max accepted value:{curr_um.numUmbrellas()-1})'\n",
    "assert max(target_heights)*input_data['thickness']<=max(curr_um.umbrellaHeights), f'target height is too high (max accepted value:{max(curr_um.umbrellaHeights)})'"
   ]
  },
  {
   "cell_type": "markdown",
   "id": "41c2a535-6855-4875-864a-3399c5212766",
   "metadata": {},
   "source": [
    "### Deploy Structure"
   ]
  },
  {
   "cell_type": "code",
   "execution_count": null,
   "id": "33b02dcc",
   "metadata": {},
   "outputs": [],
   "source": [
    "%%time\n",
    "dep_weights              = set_actives_dep_weights(curr_um.numUmbrellas(), active_cells)\n",
    "target_height_multiplier = set_target_height(curr_um.numUmbrellas(), active_cells, target_heights)\n",
    "success, eqays = deploy_umbrella_pin_rigid_motion(curr_um,\n",
    "                                                  plate_thickness_scaled,\n",
    "                                                  target_height_multiplier,\n",
    "                                                  lview, \n",
    "                                                  rod_colors,\n",
    "                                                  analysis = True,\n",
    "                                                  dep_weights=dep_weights)\n",
    "print('success : ', success, '\\n')"
   ]
  },
  {
   "cell_type": "code",
   "execution_count": null,
   "id": "b6515283-5a8d-46b2-b5f7-9459a0121b79",
   "metadata": {},
   "outputs": [],
   "source": [
    "eqays.plot()"
   ]
  },
  {
   "cell_type": "markdown",
   "id": "7cb5db46-8a2a-4eaa-a789-319f18d09e3e",
   "metadata": {},
   "source": [
    "## Stress Visualization"
   ]
  },
  {
   "cell_type": "markdown",
   "id": "7d38a34c-1c18-4c57-9acb-567f372a593b",
   "metadata": {},
   "source": [
    "---"
   ]
  },
  {
   "cell_type": "code",
   "execution_count": null,
   "id": "208535de-f9dd-4893-95cf-f5a3f487be9b",
   "metadata": {},
   "outputs": [],
   "source": [
    "sview_vm = plot_stress(curr_um, 'Von Mises')\n",
    "sview_vm.show()"
   ]
  },
  {
   "cell_type": "code",
   "execution_count": null,
   "id": "b3c2a3fd-95a6-4a3d-b5e0-930de5e92403",
   "metadata": {},
   "outputs": [],
   "source": [
    "sview_bending = plot_stress('Bending', curr_um.maxBendingStresses())\n",
    "sview_bending.show()"
   ]
  },
  {
   "cell_type": "code",
   "execution_count": null,
   "id": "c71528ea-d153-4fdc-aea2-2b902ec0b63d",
   "metadata": {},
   "outputs": [],
   "source": [
    "sview_twisting = plot_stress('Twisting', curr_um.twistingStresses())\n",
    "sview_twisting.show()"
   ]
  },
  {
   "cell_type": "code",
   "execution_count": null,
   "id": "280f9e2b-db7a-486b-b3df-4450b56827d2",
   "metadata": {},
   "outputs": [],
   "source": []
  },
  {
   "cell_type": "code",
   "execution_count": null,
   "id": "2b0981fe-56ce-49be-b761-2a4353d36215",
   "metadata": {},
   "outputs": [],
   "source": []
  }
 ],
 "metadata": {
  "kernelspec": {
   "display_name": "Python 3",
   "language": "python",
   "name": "python3"
  },
  "language_info": {
   "codemirror_mode": {
    "name": "ipython",
    "version": 3
   },
   "file_extension": ".py",
   "mimetype": "text/x-python",
   "name": "python",
   "nbconvert_exporter": "python",
   "pygments_lexer": "ipython3",
   "version": "3.10.9"
  },
  "vscode": {
   "interpreter": {
    "hash": "094aec4f193b0e6635558d0fb4f62cc2fc06a275223c2623da1d527ec568f3a7"
   }
  }
 },
 "nbformat": 4,
 "nbformat_minor": 5
}
