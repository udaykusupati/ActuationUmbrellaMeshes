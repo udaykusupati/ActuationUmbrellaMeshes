{
 "cells": [
  {
   "cell_type": "code",
   "execution_count": 1,
   "id": "25da072c-5a2f-4730-862b-31eb21c3b66a",
   "metadata": {},
   "outputs": [],
   "source": [
    "from experiment import run, read_inputs"
   ]
  },
  {
   "cell_type": "code",
   "execution_count": 2,
   "id": "6b553593-cdf5-4cf2-be4c-c174fa0d8c40",
   "metadata": {},
   "outputs": [
    {
     "data": {
      "text/plain": [
       "('test', 3, 3, 3, 10, [0, 6, 4, 3], [100, 100, 0, 0])"
      ]
     },
     "execution_count": 2,
     "metadata": {},
     "output_type": "execute_result"
    }
   ],
   "source": [
    "read_inputs('./inputs.txt')"
   ]
  },
  {
   "cell_type": "code",
   "execution_count": 3,
   "id": "d1ff990e-80da-4289-b6aa-341f08325b66",
   "metadata": {},
   "outputs": [],
   "source": [
    "degree = 3\n",
    "rows = 3\n",
    "cols = 2"
   ]
  },
  {
   "cell_type": "code",
   "execution_count": 4,
   "id": "4c6ada8d-2846-4c1b-8966-48d2820af605",
   "metadata": {},
   "outputs": [],
   "source": [
    "category = 'bla/0419'\n",
    "name = '01x'\n",
    "steps = 10\n",
    "deployment = 'linear' # incremental"
   ]
  },
  {
   "cell_type": "code",
   "execution_count": 5,
   "id": "4d5eca60-4a70-426e-89e4-7b86971e94b6",
   "metadata": {},
   "outputs": [],
   "source": [
    "deployed_cells   = [0, 6]\n",
    "undeployed_cells = [4, 3]"
   ]
  },
  {
   "cell_type": "code",
   "execution_count": 6,
   "id": "f29de570-a939-4495-984a-d39a6ad9b50e",
   "metadata": {},
   "outputs": [],
   "source": [
    "active_cells    = deployed_cells + undeployed_cells\n",
    "target_percents = [100]*len(deployed_cells) + [0]*len(undeployed_cells) # 0:undeployed | 100:deployed"
   ]
  },
  {
   "cell_type": "code",
   "execution_count": 7,
   "id": "f3b5e309-c054-40e9-bf8f-be47a655cd1a",
   "metadata": {},
   "outputs": [
    {
     "ename": "ValueError",
     "evalue": "deployment linear already computed.",
     "output_type": "error",
     "traceback": [
      "\u001b[0;31m---------------------------------------------------------------------------\u001b[0m",
      "\u001b[0;31mValueError\u001b[0m                                Traceback (most recent call last)",
      "Cell \u001b[0;32mIn[7], line 1\u001b[0m\n\u001b[0;32m----> 1\u001b[0m \u001b[43mrun\u001b[49m\u001b[43m(\u001b[49m\u001b[43mdegree\u001b[49m\u001b[43m,\u001b[49m\u001b[43m \u001b[49m\u001b[43mrows\u001b[49m\u001b[43m,\u001b[49m\u001b[43m \u001b[49m\u001b[43mcols\u001b[49m\u001b[43m,\u001b[49m\u001b[43m \u001b[49m\u001b[43mcategory\u001b[49m\u001b[43m,\u001b[49m\u001b[43m \u001b[49m\u001b[43mname\u001b[49m\u001b[43m,\u001b[49m\u001b[43m \u001b[49m\u001b[43msteps\u001b[49m\u001b[43m,\u001b[49m\u001b[43m \u001b[49m\u001b[43mdeployment\u001b[49m\u001b[43m,\u001b[49m\u001b[43m \u001b[49m\u001b[43mactive_cells\u001b[49m\u001b[43m,\u001b[49m\u001b[43m \u001b[49m\u001b[43mtarget_percents\u001b[49m\u001b[43m,\u001b[49m\u001b[43m \u001b[49m\u001b[43mverbose\u001b[49m\u001b[38;5;241;43m=\u001b[39;49m\u001b[38;5;28;43;01mTrue\u001b[39;49;00m\u001b[43m)\u001b[49m\n",
      "File \u001b[0;32m~/Documents/0/EPFL/MA4/project/github/python/actuation_experiments/experiment.py:9\u001b[0m, in \u001b[0;36mrun\u001b[0;34m(degree, rows, cols, category, name, steps, deployment, active_cells, target_percents, verbose)\u001b[0m\n\u001b[1;32m      7\u001b[0m \u001b[38;5;28;01mdef\u001b[39;00m \u001b[38;5;21mrun\u001b[39m(degree, rows, cols, category, name, steps, deployment, active_cells, target_percents, verbose\u001b[38;5;241m=\u001b[39m\u001b[38;5;28;01mFalse\u001b[39;00m):\n\u001b[1;32m      8\u001b[0m     folder_name , path \u001b[38;5;241m=\u001b[39m \\\n\u001b[0;32m----> 9\u001b[0m     \u001b[43mcreate_dir_hierarchy\u001b[49m\u001b[43m(\u001b[49m\u001b[43mcategory\u001b[49m\u001b[43m,\u001b[49m\n\u001b[1;32m     10\u001b[0m \u001b[43m                         \u001b[49m\u001b[43mdegree\u001b[49m\u001b[43m,\u001b[49m\n\u001b[1;32m     11\u001b[0m \u001b[43m                         \u001b[49m\u001b[43mrows\u001b[49m\u001b[43m,\u001b[49m\n\u001b[1;32m     12\u001b[0m \u001b[43m                         \u001b[49m\u001b[43mcols\u001b[49m\u001b[43m,\u001b[49m\n\u001b[1;32m     13\u001b[0m \u001b[43m                         \u001b[49m\u001b[43mdeployment\u001b[49m\u001b[43m,\u001b[49m\n\u001b[1;32m     14\u001b[0m \u001b[43m                         \u001b[49m\u001b[43mname\u001b[49m\u001b[43m)\u001b[49m\n\u001b[1;32m     16\u001b[0m     write_metadata(path, degree, rows, cols, steps, active_cells, target_percents)\n\u001b[1;32m     19\u001b[0m     grid \u001b[38;5;241m=\u001b[39m RegularGrid(degree, rows, cols)\n",
      "File \u001b[0;32m~/Documents/0/EPFL/MA4/project/github/python/actuation_experiments/tools.py:27\u001b[0m, in \u001b[0;36mcreate_dir_hierarchy\u001b[0;34m(category_name, degree, rows, cols, deployment, folder_name)\u001b[0m\n\u001b[1;32m     25\u001b[0m path_dep \u001b[38;5;241m=\u001b[39m path\u001b[38;5;241m+\u001b[39m\u001b[38;5;124mf\u001b[39m\u001b[38;5;124m'\u001b[39m\u001b[38;5;124m/\u001b[39m\u001b[38;5;132;01m{\u001b[39;00mdeployment\u001b[38;5;132;01m}\u001b[39;00m\u001b[38;5;124m_deployment\u001b[39m\u001b[38;5;124m'\u001b[39m\n\u001b[1;32m     26\u001b[0m \u001b[38;5;28;01mif\u001b[39;00m \u001b[38;5;129;01mnot\u001b[39;00m os\u001b[38;5;241m.\u001b[39mpath\u001b[38;5;241m.\u001b[39mexists(path_dep): os\u001b[38;5;241m.\u001b[39mmakedirs(path_dep)\n\u001b[0;32m---> 27\u001b[0m \u001b[38;5;28;01melse\u001b[39;00m: \u001b[38;5;28;01mraise\u001b[39;00m \u001b[38;5;167;01mValueError\u001b[39;00m(\u001b[38;5;124mf\u001b[39m\u001b[38;5;124m'\u001b[39m\u001b[38;5;124mdeployment \u001b[39m\u001b[38;5;132;01m{\u001b[39;00mdeployment\u001b[38;5;132;01m}\u001b[39;00m\u001b[38;5;124m already computed.\u001b[39m\u001b[38;5;124m'\u001b[39m)\n\u001b[1;32m     29\u001b[0m \u001b[38;5;28;01mfor\u001b[39;00m type_ \u001b[38;5;129;01min\u001b[39;00m [\u001b[38;5;124m'\u001b[39m\u001b[38;5;124mheights\u001b[39m\u001b[38;5;124m'\u001b[39m, \u001b[38;5;124m'\u001b[39m\u001b[38;5;124menergies\u001b[39m\u001b[38;5;124m'\u001b[39m]:\n\u001b[1;32m     30\u001b[0m     _sub_folder(path_dep\u001b[38;5;241m+\u001b[39m\u001b[38;5;124mf\u001b[39m\u001b[38;5;124m'\u001b[39m\u001b[38;5;124m/\u001b[39m\u001b[38;5;132;01m{\u001b[39;00mtype_\u001b[38;5;132;01m}\u001b[39;00m\u001b[38;5;124m'\u001b[39m)\n",
      "\u001b[0;31mValueError\u001b[0m: deployment linear already computed."
     ]
    }
   ],
   "source": [
    "run(degree, rows, cols, category, name, steps, deployment, active_cells, target_percents, verbose=True)"
   ]
  },
  {
   "cell_type": "code",
   "execution_count": null,
   "id": "e76eb848-12fe-4a30-9b7c-11dc72e4cf8b",
   "metadata": {},
   "outputs": [],
   "source": []
  }
 ],
 "metadata": {
  "kernelspec": {
   "display_name": "Python 3",
   "language": "python",
   "name": "python3"
  },
  "language_info": {
   "codemirror_mode": {
    "name": "ipython",
    "version": 3
   },
   "file_extension": ".py",
   "mimetype": "text/x-python",
   "name": "python",
   "nbconvert_exporter": "python",
   "pygments_lexer": "ipython3",
   "version": "3.10.9"
  }
 },
 "nbformat": 4,
 "nbformat_minor": 5
}
