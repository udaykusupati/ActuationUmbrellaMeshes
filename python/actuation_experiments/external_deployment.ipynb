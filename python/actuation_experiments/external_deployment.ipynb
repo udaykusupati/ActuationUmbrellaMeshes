{
 "cells": [
  {
   "cell_type": "code",
   "execution_count": 1,
   "id": "25da072c-5a2f-4730-862b-31eb21c3b66a",
   "metadata": {},
   "outputs": [],
   "source": [
    "from deployment import non_regular_grid"
   ]
  },
  {
   "cell_type": "code",
   "execution_count": 2,
   "id": "f148002e-a46f-4930-a88f-f71b88279207",
   "metadata": {},
   "outputs": [],
   "source": [
    "category = 'external'"
   ]
  },
  {
   "cell_type": "code",
   "execution_count": 3,
   "id": "e05f1282-c197-44c7-91b0-8c87540ab6da",
   "metadata": {},
   "outputs": [],
   "source": [
    "mesh_path=\"igloo_rum.json.gz\"\n",
    "# mesh_path=\"../../data/plane_equi.obj\""
   ]
  },
  {
   "cell_type": "code",
   "execution_count": 4,
   "id": "6c8d9869-ed20-4006-9237-603fe253114e",
   "metadata": {},
   "outputs": [],
   "source": [
    "degree = 3"
   ]
  },
  {
   "cell_type": "code",
   "execution_count": 5,
   "id": "4c6ada8d-2846-4c1b-8966-48d2820af605",
   "metadata": {},
   "outputs": [],
   "source": [
    "name = 'igloo_all_50'\n",
    "steps = 50\n",
    "deployment = 'linear' # incremental"
   ]
  },
  {
   "cell_type": "code",
   "execution_count": 6,
   "id": "4d5eca60-4a70-426e-89e4-7b86971e94b6",
   "metadata": {},
   "outputs": [],
   "source": [
    "deployed_cells   = list(range(44))\n",
    "undeployed_cells = []"
   ]
  },
  {
   "cell_type": "code",
   "execution_count": 7,
   "id": "f29de570-a939-4495-984a-d39a6ad9b50e",
   "metadata": {},
   "outputs": [],
   "source": [
    "active_cells    = deployed_cells + undeployed_cells\n",
    "target_percents = [94]*len(deployed_cells) + [0]*len(undeployed_cells) # 0:undeployed | 100:deployed"
   ]
  },
  {
   "cell_type": "code",
   "execution_count": 8,
   "id": "f3b5e309-c054-40e9-bf8f-be47a655cd1a",
   "metadata": {},
   "outputs": [
    {
     "ename": "ValueError",
     "evalue": "deployment linear already computed.",
     "output_type": "error",
     "traceback": [
      "\u001b[0;31m---------------------------------------------------------------------------\u001b[0m",
      "\u001b[0;31mValueError\u001b[0m                                Traceback (most recent call last)",
      "Cell \u001b[0;32mIn[8], line 1\u001b[0m\n\u001b[0;32m----> 1\u001b[0m \u001b[43mnon_regular_grid\u001b[49m\u001b[43m(\u001b[49m\u001b[43mmesh_path\u001b[49m\u001b[43m,\u001b[49m\u001b[43m \u001b[49m\u001b[43mdegree\u001b[49m\u001b[43m,\u001b[49m\u001b[43m \u001b[49m\u001b[43mcategory\u001b[49m\u001b[43m,\u001b[49m\u001b[43m \u001b[49m\u001b[43mname\u001b[49m\u001b[43m,\u001b[49m\u001b[43m \u001b[49m\u001b[43msteps\u001b[49m\u001b[43m,\u001b[49m\u001b[43m \u001b[49m\u001b[43mdeployment\u001b[49m\u001b[43m,\u001b[49m\u001b[43m \u001b[49m\u001b[43mactive_cells\u001b[49m\u001b[43m,\u001b[49m\u001b[43m \u001b[49m\u001b[43mtarget_percents\u001b[49m\u001b[43m,\u001b[49m\u001b[43m \u001b[49m\u001b[43mverbose\u001b[49m\u001b[38;5;241;43m=\u001b[39;49m\u001b[38;5;28;43;01mTrue\u001b[39;49;00m\u001b[43m)\u001b[49m\n",
      "File \u001b[0;32m~/Documents/0/EPFL/MA4/project/github/python/actuation_experiments/deployment.py:87\u001b[0m, in \u001b[0;36mnon_regular_grid\u001b[0;34m(mesh_path, degree, category, name, steps, deployment, active_cells, target_percents, heights_fct, min_height, verbose)\u001b[0m\n\u001b[1;32m     81\u001b[0m \u001b[38;5;28;01mdef\u001b[39;00m \u001b[38;5;21mnon_regular_grid\u001b[39m(mesh_path, degree, category, name, steps, deployment, active_cells, target_percents,\n\u001b[1;32m     82\u001b[0m                      heights_fct\u001b[38;5;241m=\u001b[39m\u001b[38;5;28;01mNone\u001b[39;00m, min_height\u001b[38;5;241m=\u001b[39m\u001b[38;5;241m64\u001b[39m, verbose\u001b[38;5;241m=\u001b[39m\u001b[38;5;28;01mFalse\u001b[39;00m):\n\u001b[1;32m     83\u001b[0m     \n\u001b[1;32m     84\u001b[0m     \u001b[38;5;66;03m# default value for non-regular grid\u001b[39;00m\n\u001b[1;32m     85\u001b[0m     rows\u001b[38;5;241m=\u001b[39mcols\u001b[38;5;241m=\u001b[39m\u001b[38;5;241m0\u001b[39m\n\u001b[0;32m---> 87\u001b[0m     folder_name , path \u001b[38;5;241m=\u001b[39m \u001b[43mcreate_dir_hierarchy\u001b[49m\u001b[43m(\u001b[49m\u001b[43mcategory\u001b[49m\u001b[43m,\u001b[49m\n\u001b[1;32m     88\u001b[0m \u001b[43m                                              \u001b[49m\u001b[43mdegree\u001b[49m\u001b[43m,\u001b[49m\n\u001b[1;32m     89\u001b[0m \u001b[43m                                              \u001b[49m\u001b[43mrows\u001b[49m\u001b[43m,\u001b[49m\n\u001b[1;32m     90\u001b[0m \u001b[43m                                              \u001b[49m\u001b[43mcols\u001b[49m\u001b[43m,\u001b[49m\n\u001b[1;32m     91\u001b[0m \u001b[43m                                              \u001b[49m\u001b[43mdeployment\u001b[49m\u001b[43m,\u001b[49m\n\u001b[1;32m     92\u001b[0m \u001b[43m                                              \u001b[49m\u001b[43mname\u001b[49m\u001b[43m)\u001b[49m\n\u001b[1;32m     94\u001b[0m     \u001b[38;5;28;01mif\u001b[39;00m mesh_path\u001b[38;5;241m.\u001b[39mendswith(\u001b[38;5;124m'\u001b[39m\u001b[38;5;124m.obj\u001b[39m\u001b[38;5;124m'\u001b[39m):\n\u001b[1;32m     95\u001b[0m         \u001b[38;5;66;03m# read existing mesh\u001b[39;00m\n\u001b[1;32m     96\u001b[0m         base_mesh \u001b[38;5;241m=\u001b[39m mesh\u001b[38;5;241m.\u001b[39mMesh(mesh_path)\n",
      "File \u001b[0;32m~/Documents/0/EPFL/MA4/project/github/python/actuation_experiments/tools.py:52\u001b[0m, in \u001b[0;36mcreate_dir_hierarchy\u001b[0;34m(category_name, degree, rows, cols, deployment, folder_name)\u001b[0m\n\u001b[1;32m     50\u001b[0m path_dep \u001b[38;5;241m=\u001b[39m path\u001b[38;5;241m+\u001b[39m\u001b[38;5;124mf\u001b[39m\u001b[38;5;124m'\u001b[39m\u001b[38;5;124m/\u001b[39m\u001b[38;5;132;01m{\u001b[39;00mdeployment\u001b[38;5;132;01m}\u001b[39;00m\u001b[38;5;124m_deployment\u001b[39m\u001b[38;5;124m'\u001b[39m\n\u001b[1;32m     51\u001b[0m \u001b[38;5;28;01mif\u001b[39;00m \u001b[38;5;129;01mnot\u001b[39;00m os\u001b[38;5;241m.\u001b[39mpath\u001b[38;5;241m.\u001b[39mexists(path_dep): os\u001b[38;5;241m.\u001b[39mmakedirs(path_dep)\n\u001b[0;32m---> 52\u001b[0m \u001b[38;5;28;01melse\u001b[39;00m: \u001b[38;5;28;01mraise\u001b[39;00m \u001b[38;5;167;01mValueError\u001b[39;00m(\u001b[38;5;124mf\u001b[39m\u001b[38;5;124m'\u001b[39m\u001b[38;5;124mdeployment \u001b[39m\u001b[38;5;132;01m{\u001b[39;00mdeployment\u001b[38;5;132;01m}\u001b[39;00m\u001b[38;5;124m already computed.\u001b[39m\u001b[38;5;124m'\u001b[39m)\n\u001b[1;32m     54\u001b[0m \u001b[38;5;28;01mfor\u001b[39;00m type_ \u001b[38;5;129;01min\u001b[39;00m [\u001b[38;5;124m'\u001b[39m\u001b[38;5;124mheights\u001b[39m\u001b[38;5;124m'\u001b[39m, \u001b[38;5;124m'\u001b[39m\u001b[38;5;124menergies\u001b[39m\u001b[38;5;124m'\u001b[39m]:\n\u001b[1;32m     55\u001b[0m     _sub_folder(path_dep\u001b[38;5;241m+\u001b[39m\u001b[38;5;124mf\u001b[39m\u001b[38;5;124m'\u001b[39m\u001b[38;5;124m/\u001b[39m\u001b[38;5;132;01m{\u001b[39;00mtype_\u001b[38;5;132;01m}\u001b[39;00m\u001b[38;5;124m'\u001b[39m)\n",
      "\u001b[0;31mValueError\u001b[0m: deployment linear already computed."
     ]
    }
   ],
   "source": [
    "non_regular_grid(mesh_path, degree, category, name, steps, deployment, active_cells, target_percents, verbose=True)"
   ]
  },
  {
   "cell_type": "code",
   "execution_count": null,
   "id": "e76eb848-12fe-4a30-9b7c-11dc72e4cf8b",
   "metadata": {},
   "outputs": [],
   "source": []
  }
 ],
 "metadata": {
  "kernelspec": {
   "display_name": "Python 3",
   "language": "python",
   "name": "python3"
  },
  "language_info": {
   "codemirror_mode": {
    "name": "ipython",
    "version": 3
   },
   "file_extension": ".py",
   "mimetype": "text/x-python",
   "name": "python",
   "nbconvert_exporter": "python",
   "pygments_lexer": "ipython3",
   "version": "3.10.9"
  }
 },
 "nbformat": 4,
 "nbformat_minor": 5
}
