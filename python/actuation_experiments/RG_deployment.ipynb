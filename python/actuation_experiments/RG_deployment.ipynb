{
 "cells": [
  {
   "cell_type": "code",
   "execution_count": 1,
   "id": "d93ef796-5190-4082-a4bd-35a0f6a83f22",
   "metadata": {},
   "outputs": [],
   "source": [
    "from tools import *\n",
    "from figure_2D import *\n",
    "from images import *\n",
    "from RegularGrid import RegularGrid"
   ]
  },
  {
   "cell_type": "code",
   "execution_count": 2,
   "id": "8e25057e-ec73-4b1a-8dc0-049565f63542",
   "metadata": {},
   "outputs": [],
   "source": [
    "# reload automaticaly external modules\n",
    "%load_ext autoreload\n",
    "%autoreload 2"
   ]
  },
  {
   "cell_type": "markdown",
   "id": "b80d71c9-018e-4a12-abac-41edc1ac3add",
   "metadata": {
    "tags": []
   },
   "source": [
    "### **Python file**"
   ]
  },
  {
   "cell_type": "code",
   "execution_count": 3,
   "id": "acc0b86f-e654-4050-9ef2-dd812da3c5d1",
   "metadata": {},
   "outputs": [
    {
     "data": {
      "text/plain": [
       "'formatage/550'"
      ]
     },
     "execution_count": 3,
     "metadata": {},
     "output_type": "execute_result"
    }
   ],
   "source": [
    "import random\n",
    "category_name = f'formatage/{random.randint(0, 999):0>3}'\n",
    "# category_name = f'/test'\n",
    "category_name"
   ]
  },
  {
   "cell_type": "markdown",
   "id": "102891f9-be50-479a-8602-b264c333295b",
   "metadata": {
    "tags": []
   },
   "source": [
    " "
   ]
  },
  {
   "cell_type": "markdown",
   "id": "2ebeb4ef-bdfb-4243-9901-512c9f7275ff",
   "metadata": {
    "tags": []
   },
   "source": [
    "### **Rows**, **Columns** and more"
   ]
  },
  {
   "cell_type": "code",
   "execution_count": 4,
   "id": "c73aa491-3644-4adc-ad5f-a53fe67bedca",
   "metadata": {},
   "outputs": [],
   "source": [
    "degree = 3\n",
    "rows = 2\n",
    "cols = 2"
   ]
  },
  {
   "cell_type": "code",
   "execution_count": 5,
   "id": "e35089f0-4d7a-421a-91de-d9eca34dcf2a",
   "metadata": {},
   "outputs": [],
   "source": [
    "experiment_name =f'u0_d7'\n",
    "steps = 10\n",
    "deployment = ['linear', 'incremental'][0]"
   ]
  },
  {
   "cell_type": "markdown",
   "id": "01f6da28-75a8-4711-bad9-27ec656e3e0f",
   "metadata": {
    "tags": []
   },
   "source": [
    " "
   ]
  },
  {
   "cell_type": "code",
   "execution_count": 6,
   "id": "2105c801-c419-44f1-9a54-30ffd51f9911",
   "metadata": {},
   "outputs": [],
   "source": [
    "folder_name , path = \\\n",
    "    create_dir_hierarchy(category_name,\n",
    "                         degree,\n",
    "                         rows,\n",
    "                         cols,\n",
    "                         deployment,\n",
    "                         experiment_name)"
   ]
  },
  {
   "cell_type": "code",
   "execution_count": 7,
   "id": "b0ca3555-052b-48e7-bb0d-8f41f2b666d2",
   "metadata": {},
   "outputs": [],
   "source": [
    "grid = RegularGrid(degree, rows, cols)"
   ]
  },
  {
   "cell_type": "markdown",
   "id": "c900ae1d-b906-460e-b163-ec393ef61eac",
   "metadata": {
    "tags": []
   },
   "source": [
    " "
   ]
  },
  {
   "cell_type": "markdown",
   "id": "07e8514b-fa66-4a9f-a442-ac3dcca8dcff",
   "metadata": {
    "tags": []
   },
   "source": [
    "### **Deployed** and **Undeployed**"
   ]
  },
  {
   "cell_type": "code",
   "execution_count": 8,
   "id": "59a643c3-1604-4d19-9d1c-8bb33221192c",
   "metadata": {
    "tags": []
   },
   "outputs": [],
   "source": [
    "undeployed_cells = grid.hline()\n",
    "deployed_cells   = grid.hline(1)"
   ]
  },
  {
   "cell_type": "markdown",
   "id": "1b30c100-d094-49a5-869d-1acea24d5d75",
   "metadata": {
    "tags": []
   },
   "source": [
    "- grid.border()\n",
    "- grid.center()\n",
    "- grid.vline(line_idx)\n",
    "- grid.hline(line_idx)\n",
    "- grid.cross(arm_length)"
   ]
  },
  {
   "cell_type": "markdown",
   "id": "33de26a5-242b-4d2b-afe6-9eb8b3ce12d4",
   "metadata": {},
   "source": [
    "---"
   ]
  },
  {
   "cell_type": "code",
   "execution_count": 9,
   "id": "c645bba9-179d-4d27-919b-45be357c28ff",
   "metadata": {},
   "outputs": [],
   "source": [
    "# extremities\n",
    "active_cells    = deployed_cells + undeployed_cells\n",
    "target_percents = [100]*len(deployed_cells) + [0]*len(undeployed_cells) # 0:undeployed | 100:deployed"
   ]
  },
  {
   "cell_type": "code",
   "execution_count": 10,
   "id": "bcfc844e-1ecd-4823-b06e-6a21e2bed863",
   "metadata": {},
   "outputs": [],
   "source": [
    "# linear\n",
    "# from helpers_images import get_indexes\n",
    "# active_cells    = get_indexes(degree, rows, cols)\n",
    "# target_percents = linear_height_ls(active_cells)"
   ]
  },
  {
   "cell_type": "code",
   "execution_count": 11,
   "id": "fdeea4c7-d562-44a5-8753-130234da7c46",
   "metadata": {},
   "outputs": [
    {
     "name": "stdout",
     "output_type": "stream",
     "text": [
      "cell:target percent - 04:100%\n",
      "cell:target percent - 05:100%\n",
      "cell:target percent - 06:100%\n",
      "cell:target percent - 07:100%\n",
      "cell:target percent - 00:  0%\n",
      "cell:target percent - 01:  0%\n",
      "cell:target percent - 02:  0%\n",
      "cell:target percent - 03:  0%\n"
     ]
    }
   ],
   "source": [
    "for c,p in zip(active_cells, target_percents):\n",
    "    print(f'cell:target percent - {c:0>2}:{p: >3.0f}%')"
   ]
  },
  {
   "cell_type": "code",
   "execution_count": 12,
   "id": "168a9c2a-311b-4f68-b003-a5fb17b9f9c7",
   "metadata": {},
   "outputs": [],
   "source": [
    "# write meta-data\n",
    "write_metadata(path, degree, rows, cols, steps, active_cells, target_percents)\n",
    "# write path\n",
    "with open(\"./paths.txt\", \"a\") as f:\n",
    "    f.write(path+'\\n')"
   ]
  },
  {
   "cell_type": "code",
   "execution_count": 13,
   "id": "ab762d8f-7742-4596-9e92-49457c905f73",
   "metadata": {},
   "outputs": [
    {
     "name": "stdout",
     "output_type": "stream",
     "text": [
      "PLATE CHARACTERISTIQUES:\n",
      "\tplate thickness   : 0.027740\n",
      "\tplate edge length : 0.277398\n"
     ]
    }
   ],
   "source": [
    "grid.generate_mesh(folder_name)"
   ]
  },
  {
   "cell_type": "code",
   "execution_count": 14,
   "id": "2b4d6746-d2d0-41ce-afa5-b35c33ef0df0",
   "metadata": {
    "tags": []
   },
   "outputs": [
    {
     "data": {
      "image/png": "[encoded data removed]",
      "text/plain": [
       "<Figure size 576x576 with 1 Axes>"
      ]
     },
     "metadata": {
      "needs_background": "light"
     },
     "output_type": "display_data"
    }
   ],
   "source": [
    "plot2D(grid.input_data, grid.curr_um, show_height=False, active_cells=active_cells, target_percents=target_percents, file_name = path+'/undeployed.png', show_plot=True)"
   ]
  },
  {
   "cell_type": "markdown",
   "id": "735208b7-eb41-45b4-a34d-2c1cc99af5fe",
   "metadata": {},
   "source": [
    "### **Step Deployments**"
   ]
  },
  {
   "cell_type": "code",
   "execution_count": 15,
   "id": "30acd912-da8d-4230-b3e1-49b5d79205d2",
   "metadata": {},
   "outputs": [
    {
     "name": "stdout",
     "output_type": "stream",
     "text": [
      "step  0/10 saved.\n",
      "step  1/10 saved.\n",
      "step  2/10 saved.\n",
      "step  3/10 saved.\n",
      "step  4/10 saved.\n",
      "step  5/10 saved.\n",
      "step  6/10 saved.\n",
      "step  7/10 saved.\n",
      "step  8/10 saved.\n",
      "step  9/10 saved.\n",
      "step 10/10 saved.\n"
     ]
    }
   ],
   "source": [
    "deploy_in_steps(grid.curr_um,\n",
    "                grid.input_data,\n",
    "                grid.init_heights,\n",
    "                grid.plate_thickness,\n",
    "                active_cells,\n",
    "                target_percents,\n",
    "                path,\n",
    "                deployment,\n",
    "                steps=steps,\n",
    "                verbose=True,\n",
    "                dep=deployment,\n",
    "                prj2D=(grid.rows==1 or grid.cols==1))"
   ]
  },
  {
   "cell_type": "markdown",
   "id": "e4036fd7",
   "metadata": {},
   "source": [
    "### **Images**"
   ]
  },
  {
   "cell_type": "code",
   "execution_count": 16,
   "id": "34da605a",
   "metadata": {},
   "outputs": [],
   "source": [
    "stress_type = 'maxBending'"
   ]
  },
  {
   "cell_type": "code",
   "execution_count": 17,
   "id": "79f23af9",
   "metadata": {
    "tags": []
   },
   "outputs": [
    {
     "name": "stdout",
     "output_type": "stream",
     "text": [
      "Images for step 00 successfully saved.\n",
      "Images for step 01 successfully saved.\n",
      "Images for step 02 successfully saved.\n",
      "Images for step 03 successfully saved.\n",
      "Images for step 04 successfully saved.\n",
      "Images for step 05 successfully saved.\n",
      "Images for step 06 successfully saved.\n",
      "Images for step 07 successfully saved.\n",
      "Images for step 08 successfully saved.\n",
      "Images for step 09 successfully saved.\n",
      "Images for step 10 successfully saved.\n"
     ]
    }
   ],
   "source": [
    "# JPG and PNG\n",
    "generate_2D(path,\n",
    "            deployment,\n",
    "            stress_type=stress_type,\n",
    "            show_percent=False,\n",
    "            show_plot=False,\n",
    "            verbose=True)"
   ]
  },
  {
   "cell_type": "code",
   "execution_count": 18,
   "id": "bdcc8f62",
   "metadata": {},
   "outputs": [],
   "source": [
    "generate_1D([path],\n",
    "            [deployment],\n",
    "            stress_type=stress_type,\n",
    "            show_percent=False,\n",
    "            show_plot=False)"
   ]
  },
  {
   "cell_type": "code",
   "execution_count": 19,
   "id": "33f7516d-674d-4ee8-842f-bd131bda4ba6",
   "metadata": {},
   "outputs": [],
   "source": [
    "img_to_gif(path, deployment, stress_type, duration=500, loop=2)"
   ]
  }
 ],
 "metadata": {
  "kernelspec": {
   "display_name": "Python 3",
   "language": "python",
   "name": "python3"
  },
  "language_info": {
   "codemirror_mode": {
    "name": "ipython",
    "version": 3
   },
   "file_extension": ".py",
   "mimetype": "text/x-python",
   "name": "python",
   "nbconvert_exporter": "python",
   "pygments_lexer": "ipython3",
   "version": "3.10.9"
  }
 },
 "nbformat": 4,
 "nbformat_minor": 5
}
